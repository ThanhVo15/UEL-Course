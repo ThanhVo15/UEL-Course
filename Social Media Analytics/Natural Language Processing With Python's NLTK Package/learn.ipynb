{
 "cells": [
  {
   "cell_type": "markdown",
   "metadata": {},
   "source": [
    "# 1. Tokenizing"
   ]
  },
  {
   "cell_type": "markdown",
   "metadata": {},
   "source": [
    "By tokenizing, you can conveniently split up text by word or by sentence. This will allow you to work with smaller pieces of text that are still relatively coherent and meaningful even outside of the context of the rest of the text. It’s your first step in turning unstructured data into structured data, which is easier to analyze.\n",
    "\n",
    "When you’re analyzing text, you’ll be tokenizing by word and tokenizing by sentence. Here’s what both types of tokenization bring to the table:\n",
    "\n",
    "- Tokenizing by word: Words are like the atoms of natural language. They’re the smallest unit of meaning that still makes sense on its own. Tokenizing your text by word allows you to identify words that come up particularly often. For example, if you were analyzing a group of job ads, then you might find that the word “Python” comes up often. That could suggest high demand for Python knowledge, but you’d need to look deeper to know more.\n",
    "\n",
    "- Tokenizing by sentence: When you tokenize by sentence, you can analyze how those words relate to one another and see more context. Are there a lot of negative words around the word “Python” because the hiring manager doesn’t like Python? Are there more terms from the domain of herpetology than the domain of software development, suggesting that you may be dealing with an entirely different kind of python than you were expecting?"
   ]
  },
  {
   "cell_type": "code",
   "execution_count": 42,
   "metadata": {},
   "outputs": [
    {
     "data": {
      "text/plain": [
       "[\" Muad'Dib learned rapidly because his first training was in how to learn.\",\n",
       " 'And the first lesson of all was the basic trust that he could learn.',\n",
       " \"It's shocking to find how many people do not believe they can learn, and how many more believe learning to be difficult.\"]"
      ]
     },
     "execution_count": 42,
     "metadata": {},
     "output_type": "execute_result"
    }
   ],
   "source": [
    "from nltk.tokenize import sent_tokenize, word_tokenize\n",
    "\n",
    "example_string = \"\"\" Muad'Dib learned rapidly because his first training was in how to learn. And the first lesson of all was the basic trust that he could learn. It's shocking to find how many people do not believe they can learn, and how many more believe learning to be difficult.\"\"\"\n",
    "sent_tokenize(example_string)"
   ]
  },
  {
   "cell_type": "code",
   "execution_count": 43,
   "metadata": {},
   "outputs": [
    {
     "data": {
      "text/plain": [
       "[\"Muad'Dib\",\n",
       " 'learned',\n",
       " 'rapidly',\n",
       " 'because',\n",
       " 'his',\n",
       " 'first',\n",
       " 'training',\n",
       " 'was',\n",
       " 'in',\n",
       " 'how',\n",
       " 'to',\n",
       " 'learn',\n",
       " '.',\n",
       " 'And',\n",
       " 'the',\n",
       " 'first',\n",
       " 'lesson',\n",
       " 'of',\n",
       " 'all',\n",
       " 'was',\n",
       " 'the',\n",
       " 'basic',\n",
       " 'trust',\n",
       " 'that',\n",
       " 'he',\n",
       " 'could',\n",
       " 'learn',\n",
       " '.',\n",
       " 'It',\n",
       " \"'s\",\n",
       " 'shocking',\n",
       " 'to',\n",
       " 'find',\n",
       " 'how',\n",
       " 'many',\n",
       " 'people',\n",
       " 'do',\n",
       " 'not',\n",
       " 'believe',\n",
       " 'they',\n",
       " 'can',\n",
       " 'learn',\n",
       " ',',\n",
       " 'and',\n",
       " 'how',\n",
       " 'many',\n",
       " 'more',\n",
       " 'believe',\n",
       " 'learning',\n",
       " 'to',\n",
       " 'be',\n",
       " 'difficult',\n",
       " '.']"
      ]
     },
     "execution_count": 43,
     "metadata": {},
     "output_type": "execute_result"
    }
   ],
   "source": [
    "word_tokenize(example_string)"
   ]
  },
  {
   "cell_type": "markdown",
   "metadata": {},
   "source": [
    "# 2. Filtering Stop Words"
   ]
  },
  {
   "cell_type": "markdown",
   "metadata": {},
   "source": [
    "Stop words are words that you want to ignore, so you filter them out of your text when you’re processing it. Very common words like 'in', 'is', and 'an' are often used as stop words since they don’t add a lot of meaning to a text in and of themselves."
   ]
  },
  {
   "cell_type": "code",
   "execution_count": 44,
   "metadata": {},
   "outputs": [
    {
     "name": "stderr",
     "output_type": "stream",
     "text": [
      "[nltk_data] Downloading package stopwords to\n",
      "[nltk_data]     C:\\Users\\thanh\\AppData\\Roaming\\nltk_data...\n",
      "[nltk_data]   Package stopwords is already up-to-date!\n"
     ]
    },
    {
     "data": {
      "text/plain": [
       "True"
      ]
     },
     "execution_count": 44,
     "metadata": {},
     "output_type": "execute_result"
    }
   ],
   "source": [
    "import nltk\n",
    "from nltk.corpus import stopwords\n",
    "nltk.download(\"stopwords\")"
   ]
  },
  {
   "cell_type": "code",
   "execution_count": 45,
   "metadata": {},
   "outputs": [],
   "source": [
    "worf_quote = \"Sir, I protest. I am not a merry man!\""
   ]
  },
  {
   "cell_type": "code",
   "execution_count": 46,
   "metadata": {},
   "outputs": [
    {
     "data": {
      "text/plain": [
       "['Sir', ',', 'I', 'protest', '.', 'I', 'am', 'not', 'a', 'merry', 'man', '!']"
      ]
     },
     "execution_count": 46,
     "metadata": {},
     "output_type": "execute_result"
    }
   ],
   "source": [
    "word_in_quotes = word_tokenize(worf_quote)\n",
    "word_in_quotes"
   ]
  },
  {
   "cell_type": "code",
   "execution_count": 47,
   "metadata": {},
   "outputs": [],
   "source": [
    "stop_words = set(stopwords.words(\"english\"))"
   ]
  },
  {
   "cell_type": "code",
   "execution_count": 48,
   "metadata": {},
   "outputs": [],
   "source": [
    "filtered_list = []\n",
    "for word in word_in_quotes:\n",
    "    if word.casefold() not in stop_words:\n",
    "        filtered_list.append(word)"
   ]
  },
  {
   "cell_type": "code",
   "execution_count": 49,
   "metadata": {},
   "outputs": [],
   "source": [
    "filtered_lists = [word for word in word_in_quotes if word.casefold() not in stop_words]"
   ]
  },
  {
   "cell_type": "code",
   "execution_count": 50,
   "metadata": {},
   "outputs": [
    {
     "data": {
      "text/plain": [
       "['Sir', ',', 'protest', '.', 'merry', 'man', '!']"
      ]
     },
     "execution_count": 50,
     "metadata": {},
     "output_type": "execute_result"
    }
   ],
   "source": [
    "filtered_list"
   ]
  },
  {
   "cell_type": "markdown",
   "metadata": {},
   "source": [
    "# 3. Stemming"
   ]
  },
  {
   "cell_type": "markdown",
   "metadata": {},
   "source": [
    "Stemming is a text processing task in which you reduce words to their root, which is the core part of a word. For example, the words “helping” and “helper” share the root “help.” Stemming allows you to zero in on the basic meaning of a word rather than all the details of how it’s being used. NLTK has more than one stemmer, but you’ll be using the Porter stemmer."
   ]
  },
  {
   "cell_type": "code",
   "execution_count": 51,
   "metadata": {},
   "outputs": [],
   "source": [
    "from nltk.stem import PorterStemmer, SnowballStemmer\n",
    "\n",
    "stemmer = PorterStemmer()\n",
    "stemmer2 = SnowballStemmer(\"english\")"
   ]
  },
  {
   "cell_type": "code",
   "execution_count": 52,
   "metadata": {},
   "outputs": [],
   "source": [
    "string_for_stemming = \"\"\"The crew of the USS Discovery discovered many discoveries. Discovering is what explorers do.\"\"\""
   ]
  },
  {
   "cell_type": "code",
   "execution_count": 53,
   "metadata": {},
   "outputs": [],
   "source": [
    "words = word_tokenize(string_for_stemming)"
   ]
  },
  {
   "cell_type": "code",
   "execution_count": 54,
   "metadata": {},
   "outputs": [],
   "source": [
    "stemmed_words = [stemmer.stem(word) for word in words]"
   ]
  },
  {
   "cell_type": "code",
   "execution_count": 55,
   "metadata": {},
   "outputs": [
    {
     "data": {
      "text/plain": [
       "['the',\n",
       " 'crew',\n",
       " 'of',\n",
       " 'the',\n",
       " 'uss',\n",
       " 'discoveri',\n",
       " 'discov',\n",
       " 'mani',\n",
       " 'discoveri',\n",
       " '.',\n",
       " 'discov',\n",
       " 'is',\n",
       " 'what',\n",
       " 'explor',\n",
       " 'do',\n",
       " '.']"
      ]
     },
     "execution_count": 55,
     "metadata": {},
     "output_type": "execute_result"
    }
   ],
   "source": [
    "stemmed_words"
   ]
  },
  {
   "cell_type": "code",
   "execution_count": 56,
   "metadata": {},
   "outputs": [],
   "source": [
    "stemmed_words2 = [stemmer2.stem(word) for word in words]"
   ]
  },
  {
   "cell_type": "code",
   "execution_count": 57,
   "metadata": {},
   "outputs": [
    {
     "data": {
      "text/plain": [
       "['the',\n",
       " 'crew',\n",
       " 'of',\n",
       " 'the',\n",
       " 'uss',\n",
       " 'discoveri',\n",
       " 'discov',\n",
       " 'mani',\n",
       " 'discoveri',\n",
       " '.',\n",
       " 'discov',\n",
       " 'is',\n",
       " 'what',\n",
       " 'explor',\n",
       " 'do',\n",
       " '.']"
      ]
     },
     "execution_count": 57,
     "metadata": {},
     "output_type": "execute_result"
    }
   ],
   "source": [
    "stemmed_words2"
   ]
  },
  {
   "cell_type": "markdown",
   "metadata": {},
   "source": [
    "Those results look a little inconsistent. Why would 'Discovery' give you 'discoveri' when 'Discovering' gives you 'discov'?\n",
    "\n",
    "Understemming and overstemming are two ways stemming can go wrong:\n",
    "\n",
    "1. Understemming happens when two related words should be reduced to the same stem but aren’t. This is a false negative.\n",
    "2. Overstemming happens when two unrelated words are reduced to the same stem even though they shouldn’t be. This is a false positive.\n",
    "The Porter stemming algorithm dates from 1979, so it’s a little on the older side. The Snowball stemmer, which is also called Porter2, is an improvement on the original and is also available through NLTK, so you can use that one in your own projects. It’s also worth noting that the purpose of the Porter stemmer is not to produce complete words but to find variant forms of a word.\n",
    "\n",
    "Fortunately, you have some other ways to reduce words to their core meaning, such as lemmatizing, which you’ll see later in this tutorial. But first, we need to cover parts of speech."
   ]
  },
  {
   "cell_type": "markdown",
   "metadata": {},
   "source": [
    "# 4. Tagging Parts of Speech"
   ]
  },
  {
   "attachments": {
    "image.png": {
     "image/png": "[encoded data removed]"
    }
   },
   "cell_type": "markdown",
   "metadata": {},
   "source": [
    "Part of speech is a grammatical term that deals with the roles words play when you use them together in sentences. Tagging parts of speech, or POS tagging, is the task of labeling the words in your text according to their part of speech.\n",
    "\n",
    "![image.png](attachment:image.png)"
   ]
  },
  {
   "cell_type": "code",
   "execution_count": 58,
   "metadata": {},
   "outputs": [
    {
     "name": "stderr",
     "output_type": "stream",
     "text": [
      "[nltk_data] Downloading package averaged_perceptron_tagger to\n",
      "[nltk_data]     C:\\Users\\thanh\\AppData\\Roaming\\nltk_data...\n",
      "[nltk_data]   Package averaged_perceptron_tagger is already up-to-\n",
      "[nltk_data]       date!\n"
     ]
    },
    {
     "data": {
      "text/plain": [
       "[('If', 'IN'),\n",
       " ('you', 'PRP'),\n",
       " ('wish', 'VBP'),\n",
       " ('to', 'TO'),\n",
       " ('make', 'VB'),\n",
       " ('an', 'DT'),\n",
       " ('apple', 'NN'),\n",
       " ('pie', 'NN'),\n",
       " ('from', 'IN'),\n",
       " ('scratch', 'NN'),\n",
       " (',', ','),\n",
       " ('you', 'PRP'),\n",
       " ('must', 'MD'),\n",
       " ('first', 'VB'),\n",
       " ('invent', 'VB'),\n",
       " ('the', 'DT'),\n",
       " ('universe', 'NN'),\n",
       " ('.', '.')]"
      ]
     },
     "execution_count": 58,
     "metadata": {},
     "output_type": "execute_result"
    }
   ],
   "source": [
    "from nltk.tokenize import word_tokenize\n",
    "\n",
    "sagan_quote = \"\"\"If you wish to make an apple pie from scratch, you must first invent the universe.\"\"\"\n",
    "words_in_sagan_quote = word_tokenize(sagan_quote)\n",
    "\n",
    "import nltk\n",
    "nltk.download(\"averaged_perceptron_tagger\")\n",
    "nltk.pos_tag(words_in_sagan_quote)"
   ]
  },
  {
   "attachments": {
    "image.png": {
     "image/png": "[encoded data removed]"
    }
   },
   "cell_type": "markdown",
   "metadata": {},
   "source": [
    "![image.png](attachment:image.png)"
   ]
  },
  {
   "cell_type": "code",
   "execution_count": 59,
   "metadata": {},
   "outputs": [
    {
     "data": {
      "text/plain": [
       "[(\"'T\", 'NN'),\n",
       " ('was', 'VBD'),\n",
       " ('brillig', 'VBN'),\n",
       " (',', ','),\n",
       " ('and', 'CC'),\n",
       " ('the', 'DT'),\n",
       " ('slithy', 'JJ'),\n",
       " ('toves', 'NNS'),\n",
       " ('did', 'VBD'),\n",
       " ('gyre', 'NN'),\n",
       " ('and', 'CC'),\n",
       " ('gimble', 'JJ'),\n",
       " ('in', 'IN'),\n",
       " ('the', 'DT'),\n",
       " ('wabe', 'NN'),\n",
       " (';', ':'),\n",
       " ('All', 'DT'),\n",
       " ('mimsy', 'NNS'),\n",
       " ('were', 'VBD'),\n",
       " ('the', 'DT'),\n",
       " ('borogoves', 'NNS'),\n",
       " (',', ','),\n",
       " ('and', 'CC'),\n",
       " ('the', 'DT'),\n",
       " ('mome', 'JJ'),\n",
       " ('raths', 'NNS'),\n",
       " ('outgrabe', 'RB'),\n",
       " ('.', '.')]"
      ]
     },
     "execution_count": 59,
     "metadata": {},
     "output_type": "execute_result"
    }
   ],
   "source": [
    "jabberwocky = \"\"\"'Twas brillig, and the slithy toves did gyre and gimble in the wabe; All mimsy were the borogoves, and the mome raths outgrabe.\"\"\"\n",
    "\n",
    "words_in_jabberwocky = word_tokenize(jabberwocky)\n",
    "nltk.pos_tag(words_in_jabberwocky)"
   ]
  },
  {
   "cell_type": "markdown",
   "metadata": {},
   "source": [
    "# 5. Lemmatizing\n",
    "----\n",
    "Now that you’re up to speed on parts of speech, you can circle back to lemmatizing. Like stemming, lemmatizing reduces words to their core meaning, but it will give you a complete English word that makes sense on its own instead of just a fragment of a word like 'discoveri'.\n",
    "\n",
    "Note: A lemma is a word that represents a whole group of words, and that group of words is called a lexeme.\n",
    "\n",
    "For example, if you were to look up the word “blending” in a dictionary, then you’d need to look at the entry for “blend,” but you would find “blending” listed in that entry.\n",
    "\n",
    "In this example, “blend” is the lemma, and “blending” is part of the lexeme. So when you lemmatize a word, you are reducing it to its lemma."
   ]
  },
  {
   "cell_type": "code",
   "execution_count": 60,
   "metadata": {},
   "outputs": [
    {
     "name": "stdout",
     "output_type": "stream",
     "text": [
      "scarf\n",
      "scarv\n"
     ]
    },
    {
     "name": "stderr",
     "output_type": "stream",
     "text": [
      "[nltk_data] Downloading package wordnet to\n",
      "[nltk_data]     C:\\Users\\thanh\\AppData\\Roaming\\nltk_data...\n",
      "[nltk_data]   Package wordnet is already up-to-date!\n"
     ]
    }
   ],
   "source": [
    "from nltk.stem import WordNetLemmatizer\n",
    "lemmatizer = WordNetLemmatizer()\n",
    "import nltk\n",
    "nltk.download('wordnet')\n",
    "\n",
    "\n",
    "r1 = lemmatizer.lemmatize(\"scarves\")\n",
    "r2 = stemmer.stem(\"scarves\")\n",
    "print(r1)\n",
    "print(r2)"
   ]
  },
  {
   "cell_type": "code",
   "execution_count": 61,
   "metadata": {},
   "outputs": [
    {
     "data": {
      "text/plain": [
       "['The',\n",
       " 'friend',\n",
       " 'of',\n",
       " 'DeSoto',\n",
       " 'love',\n",
       " 'scarf',\n",
       " '.',\n",
       " 'They',\n",
       " 'have',\n",
       " 'many',\n",
       " 'scarf',\n",
       " 'for',\n",
       " 'their',\n",
       " 'neck',\n",
       " '.']"
      ]
     },
     "execution_count": 61,
     "metadata": {},
     "output_type": "execute_result"
    }
   ],
   "source": [
    "string_for_lemmatizing = \"\"\"The friends of DeSoto love scarves. They have many scarves for their necks.\"\"\"\n",
    "words = word_tokenize(string_for_lemmatizing)\n",
    "lemmatized_words = [lemmatizer.lemmatize(word) for word in words]\n",
    "lemmatized_words"
   ]
  },
  {
   "cell_type": "code",
   "execution_count": 62,
   "metadata": {},
   "outputs": [
    {
     "data": {
      "text/plain": [
       "'worst'"
      ]
     },
     "execution_count": 62,
     "metadata": {},
     "output_type": "execute_result"
    }
   ],
   "source": [
    "lemmatizer.lemmatize(\"worst\")"
   ]
  },
  {
   "cell_type": "code",
   "execution_count": 63,
   "metadata": {},
   "outputs": [
    {
     "data": {
      "text/plain": [
       "'bad'"
      ]
     },
     "execution_count": 63,
     "metadata": {},
     "output_type": "execute_result"
    }
   ],
   "source": [
    "lemmatizer.lemmatize(\"worst\", pos = \"a\")\n",
    "# pos = \"a\" is for adjective, n is for noun, v is for verb, r is for adverb"
   ]
  },
  {
   "attachments": {
    "image.png": {
     "image/png": "[encoded data removed]"
    }
   },
   "cell_type": "markdown",
   "metadata": {},
   "source": [
    "# 6. Chunking\n",
    "---\n",
    "![image.png](attachment:image.png)"
   ]
  },
  {
   "cell_type": "code",
   "execution_count": 64,
   "metadata": {},
   "outputs": [
    {
     "data": {
      "text/plain": [
       "['It',\n",
       " \"'s\",\n",
       " 'a',\n",
       " 'dangerous',\n",
       " 'business',\n",
       " ',',\n",
       " 'Frodo',\n",
       " ',',\n",
       " 'going',\n",
       " 'out',\n",
       " 'your',\n",
       " 'door',\n",
       " '.']"
      ]
     },
     "execution_count": 64,
     "metadata": {},
     "output_type": "execute_result"
    }
   ],
   "source": [
    "from nltk.tokenize import word_tokenize\n",
    "lotr_quote = \"\"\"It's a dangerous business, Frodo, going out your door.\"\"\"\n",
    "words_in_lotr_quote = word_tokenize(lotr_quote)\n",
    "words_in_lotr_quote"
   ]
  },
  {
   "cell_type": "code",
   "execution_count": 65,
   "metadata": {},
   "outputs": [
    {
     "name": "stderr",
     "output_type": "stream",
     "text": [
      "[nltk_data] Downloading package averaged_perceptron_tagger to\n",
      "[nltk_data]     C:\\Users\\thanh\\AppData\\Roaming\\nltk_data...\n",
      "[nltk_data]   Package averaged_perceptron_tagger is already up-to-\n",
      "[nltk_data]       date!\n"
     ]
    },
    {
     "data": {
      "text/plain": [
       "[('It', 'PRP'),\n",
       " (\"'s\", 'VBZ'),\n",
       " ('a', 'DT'),\n",
       " ('dangerous', 'JJ'),\n",
       " ('business', 'NN'),\n",
       " (',', ','),\n",
       " ('Frodo', 'NNP'),\n",
       " (',', ','),\n",
       " ('going', 'VBG'),\n",
       " ('out', 'RP'),\n",
       " ('your', 'PRP$'),\n",
       " ('door', 'NN'),\n",
       " ('.', '.')]"
      ]
     },
     "execution_count": 65,
     "metadata": {},
     "output_type": "execute_result"
    }
   ],
   "source": [
    "nltk.download(\"averaged_perceptron_tagger\")\n",
    "lotr_pos_tags = nltk.pos_tag(words_in_lotr_quote)\n",
    "lotr_pos_tags"
   ]
  },
  {
   "cell_type": "code",
   "execution_count": 66,
   "metadata": {},
   "outputs": [],
   "source": [
    "grammar = \"NP: {<DT>?<JJ>*<NN>}\"\n",
    "churn_parser = nltk.RegexpParser(grammar)"
   ]
  },
  {
   "cell_type": "code",
   "execution_count": 67,
   "metadata": {},
   "outputs": [],
   "source": [
    "tree = churn_parser.parse(lotr_pos_tags)"
   ]
  },
  {
   "cell_type": "markdown",
   "metadata": {},
   "source": [
    "Dĩ nhiên, mình sẽ giải thích bằng tiếng Việt và kèm theo ví dụ để dễ hiểu hơn.\n",
    "\n",
    "Trong ngôn ngữ tự nhiên, một câu có thể được phân tích thành các phần nhỏ hơn như cụm từ hoặc từ loại để hiểu ý nghĩa của nó. Trong tiếng Anh, ví dụ, một câu có thể được chia thành các thành phần như danh từ (Noun - N), động từ (Verb - V), tính từ (Adjective - ADJ), và nhiều hơn nữa.\n",
    "\n",
    "Trong tiếng Việt, chúng ta cũng có thể phân tích câu thành các phần nhỏ hơn để hiểu cấu trúc và ý nghĩa của câu đó. Ví dụ, câu \"Con chó đen nhảy qua cái cầu.\" có thể được phân tích thành các thành phần như sau:\n",
    "\n",
    "- \"Con chó đen\": cụm danh từ mô tả con chó có màu đen.\n",
    "- \"nhảy qua\": động từ mô tả hành động của con chó.\n",
    "- \"cái cầu\": danh từ chỉ đối tượng mà con chó nhảy qua.\n",
    "\n",
    "Trong ví dụ này, cụm từ \"Con chó đen\" là một danh từ phức tạp, được hình thành từ danh từ \"chó\" và tính từ \"đen\".\n",
    "\n",
    "Giống như vậy, trong mã bạn cung cấp, bạn đang sử dụng một cú pháp để xác định các cụm từ danh từ trong câu dựa trên cấu trúc của chúng. Ví dụ, trong cú pháp `\"NP: {<DT>?<JJ>*<NN>}\"`, `NP` đại diện cho cụm từ danh từ (Noun Phrase), và các ký tự trong ngoặc nhọn định nghĩa cấu trúc của cụm từ danh từ:\n",
    "\n",
    "- `<DT>`: một từ chỉ định (Determiner), như \"the\", \"a\", \"an\".\n",
    "- `?`: có thể có hoặc không có một từ chỉ định.\n",
    "- `<JJ>`: một tính từ (Adjective), như \"big\", \"beautiful\".\n",
    "- `*`: có thể có hoặc không có một hoặc nhiều tính từ.\n",
    "- `<NN>`: một danh từ (Noun), như \"dog\", \"car\".\n",
    "\n",
    "Vậy nên, khi bạn sử dụng `churn_parser` với câu văn đầu vào, nó sẽ cố gắng tìm và phân tích các cụm từ danh từ trong câu dựa trên cấu trúc bạn đã xác định."
   ]
  },
  {
   "cell_type": "markdown",
   "metadata": {},
   "source": [
    "# 7. Chinking\n",
    "---\n",
    "Chinking is used together with chunking, but while chunking is used to include a pattern, chinking is used to exclude a pattern."
   ]
  },
  {
   "cell_type": "code",
   "execution_count": 68,
   "metadata": {},
   "outputs": [
    {
     "data": {
      "text/plain": [
       "[('It', 'PRP'),\n",
       " (\"'s\", 'VBZ'),\n",
       " ('a', 'DT'),\n",
       " ('dangerous', 'JJ'),\n",
       " ('business', 'NN'),\n",
       " (',', ','),\n",
       " ('Frodo', 'NNP'),\n",
       " (',', ','),\n",
       " ('going', 'VBG'),\n",
       " ('out', 'RP'),\n",
       " ('your', 'PRP$'),\n",
       " ('door', 'NN'),\n",
       " ('.', '.')]"
      ]
     },
     "execution_count": 68,
     "metadata": {},
     "output_type": "execute_result"
    }
   ],
   "source": [
    "lotr_pos_tags"
   ]
  },
  {
   "cell_type": "code",
   "execution_count": 69,
   "metadata": {},
   "outputs": [],
   "source": [
    "grammar = \"\"\"\n",
    "Chunk: {<.*>+}\n",
    "       }<JJ>{\"\"\"\n",
    "\n",
    "chunk_parser = nltk.RegexpParser(grammar)"
   ]
  },
  {
   "cell_type": "code",
   "execution_count": 70,
   "metadata": {},
   "outputs": [],
   "source": [
    "tree = chunk_parser.parse(lotr_pos_tags)"
   ]
  },
  {
   "attachments": {
    "image.png": {
     "image/png": "[encoded data removed]"
    }
   },
   "cell_type": "markdown",
   "metadata": {},
   "source": [
    "# 8. Using Name Entity Recognition (NER)\n",
    "---\n",
    "Named entities are noun phrases that refer to specific locations, people, organizations, and so on. With named entity recognition, you can find the named entities in your texts and also determine what kind of named entity they are.\n",
    "\n",
    "![image.png](attachment:image.png)"
   ]
  },
  {
   "cell_type": "code",
   "execution_count": 71,
   "metadata": {},
   "outputs": [
    {
     "name": "stderr",
     "output_type": "stream",
     "text": [
      "[nltk_data] Downloading package maxent_ne_chunker to\n",
      "[nltk_data]     C:\\Users\\thanh\\AppData\\Roaming\\nltk_data...\n",
      "[nltk_data]   Package maxent_ne_chunker is already up-to-date!\n",
      "[nltk_data] Downloading package words to\n",
      "[nltk_data]     C:\\Users\\thanh\\AppData\\Roaming\\nltk_data...\n",
      "[nltk_data]   Package words is already up-to-date!\n"
     ]
    }
   ],
   "source": [
    "nltk.download(\"maxent_ne_chunker\")\n",
    "nltk.download(\"words\")\n",
    "tree = nltk.ne_chunk(lotr_pos_tags)"
   ]
  },
  {
   "cell_type": "code",
   "execution_count": 72,
   "metadata": {},
   "outputs": [],
   "source": [
    "# See how Frodo has been tagged as a PERSON? You also have the option to use the parameter binary=True if you just want to know what the named entities are but not what kind of named entity they are:\n",
    "tree = nltk.ne_chunk(lotr_pos_tags, binary=True)"
   ]
  },
  {
   "cell_type": "code",
   "execution_count": 73,
   "metadata": {},
   "outputs": [],
   "source": [
    "quote = \"\"\"\n",
    "Men like Schiaparelli watched the red planet—it is odd, by-the-bye, that\n",
    "for countless centuries Mars has been the star of war—but failed to\n",
    "interpret the fluctuating appearances of the markings they mapped so well.\n",
    "All that time the Martians must have been getting ready.\n",
    "\n",
    "During the opposition of 1894 a great light was seen on the illuminated\n",
    "part of the disk, first at the Lick Observatory, then by Perrotin of Nice,\n",
    "and then by other observers. English readers heard of it first in the\n",
    "issue of Nature dated August 2.\"\"\""
   ]
  },
  {
   "cell_type": "code",
   "execution_count": 74,
   "metadata": {},
   "outputs": [],
   "source": [
    "from nltk.tokenize import sent_tokenize, word_tokenize\n",
    "sentences = sent_tokenize(quote)\n",
    "words = word_tokenize(quote)"
   ]
  },
  {
   "cell_type": "code",
   "execution_count": 75,
   "metadata": {},
   "outputs": [
    {
     "data": {
      "text/plain": [
       "['\\nMen like Schiaparelli watched the red planet—it is odd, by-the-bye, that\\nfor countless centuries Mars has been the star of war—but failed to\\ninterpret the fluctuating appearances of the markings they mapped so well.',\n",
       " 'All that time the Martians must have been getting ready.',\n",
       " 'During the opposition of 1894 a great light was seen on the illuminated\\npart of the disk, first at the Lick Observatory, then by Perrotin of Nice,\\nand then by other observers.',\n",
       " 'English readers heard of it first in the\\nissue of Nature dated August 2.']"
      ]
     },
     "execution_count": 75,
     "metadata": {},
     "output_type": "execute_result"
    }
   ],
   "source": [
    "sentences"
   ]
  },
  {
   "cell_type": "code",
   "execution_count": 76,
   "metadata": {},
   "outputs": [
    {
     "data": {
      "text/plain": [
       "['Men',\n",
       " 'like',\n",
       " 'Schiaparelli',\n",
       " 'watched',\n",
       " 'the',\n",
       " 'red',\n",
       " 'planet—it',\n",
       " 'is',\n",
       " 'odd',\n",
       " ',',\n",
       " 'by-the-bye',\n",
       " ',',\n",
       " 'that',\n",
       " 'for',\n",
       " 'countless',\n",
       " 'centuries',\n",
       " 'Mars',\n",
       " 'has',\n",
       " 'been',\n",
       " 'the',\n",
       " 'star',\n",
       " 'of',\n",
       " 'war—but',\n",
       " 'failed',\n",
       " 'to',\n",
       " 'interpret',\n",
       " 'the',\n",
       " 'fluctuating',\n",
       " 'appearances',\n",
       " 'of',\n",
       " 'the',\n",
       " 'markings',\n",
       " 'they',\n",
       " 'mapped',\n",
       " 'so',\n",
       " 'well',\n",
       " '.',\n",
       " 'All',\n",
       " 'that',\n",
       " 'time',\n",
       " 'the',\n",
       " 'Martians',\n",
       " 'must',\n",
       " 'have',\n",
       " 'been',\n",
       " 'getting',\n",
       " 'ready',\n",
       " '.',\n",
       " 'During',\n",
       " 'the',\n",
       " 'opposition',\n",
       " 'of',\n",
       " '1894',\n",
       " 'a',\n",
       " 'great',\n",
       " 'light',\n",
       " 'was',\n",
       " 'seen',\n",
       " 'on',\n",
       " 'the',\n",
       " 'illuminated',\n",
       " 'part',\n",
       " 'of',\n",
       " 'the',\n",
       " 'disk',\n",
       " ',',\n",
       " 'first',\n",
       " 'at',\n",
       " 'the',\n",
       " 'Lick',\n",
       " 'Observatory',\n",
       " ',',\n",
       " 'then',\n",
       " 'by',\n",
       " 'Perrotin',\n",
       " 'of',\n",
       " 'Nice',\n",
       " ',',\n",
       " 'and',\n",
       " 'then',\n",
       " 'by',\n",
       " 'other',\n",
       " 'observers',\n",
       " '.',\n",
       " 'English',\n",
       " 'readers',\n",
       " 'heard',\n",
       " 'of',\n",
       " 'it',\n",
       " 'first',\n",
       " 'in',\n",
       " 'the',\n",
       " 'issue',\n",
       " 'of',\n",
       " 'Nature',\n",
       " 'dated',\n",
       " 'August',\n",
       " '2',\n",
       " '.']"
      ]
     },
     "execution_count": 76,
     "metadata": {},
     "output_type": "execute_result"
    }
   ],
   "source": [
    "words"
   ]
  },
  {
   "cell_type": "code",
   "execution_count": 77,
   "metadata": {},
   "outputs": [
    {
     "name": "stderr",
     "output_type": "stream",
     "text": [
      "[nltk_data] Downloading package averaged_perceptron_tagger to\n",
      "[nltk_data]     C:\\Users\\thanh\\AppData\\Roaming\\nltk_data...\n",
      "[nltk_data]   Package averaged_perceptron_tagger is already up-to-\n",
      "[nltk_data]       date!\n"
     ]
    },
    {
     "data": {
      "text/plain": [
       "[('Men', 'NNS'),\n",
       " ('like', 'IN'),\n",
       " ('Schiaparelli', 'NNP'),\n",
       " ('watched', 'VBD'),\n",
       " ('the', 'DT'),\n",
       " ('red', 'JJ'),\n",
       " ('planet—it', 'NN'),\n",
       " ('is', 'VBZ'),\n",
       " ('odd', 'JJ'),\n",
       " (',', ','),\n",
       " ('by-the-bye', 'JJ'),\n",
       " (',', ','),\n",
       " ('that', 'IN'),\n",
       " ('for', 'IN'),\n",
       " ('countless', 'JJ'),\n",
       " ('centuries', 'NNS'),\n",
       " ('Mars', 'NNP'),\n",
       " ('has', 'VBZ'),\n",
       " ('been', 'VBN'),\n",
       " ('the', 'DT'),\n",
       " ('star', 'NN'),\n",
       " ('of', 'IN'),\n",
       " ('war—but', 'NN'),\n",
       " ('failed', 'VBD'),\n",
       " ('to', 'TO'),\n",
       " ('interpret', 'VB'),\n",
       " ('the', 'DT'),\n",
       " ('fluctuating', 'NN'),\n",
       " ('appearances', 'NNS'),\n",
       " ('of', 'IN'),\n",
       " ('the', 'DT'),\n",
       " ('markings', 'NNS'),\n",
       " ('they', 'PRP'),\n",
       " ('mapped', 'VBD'),\n",
       " ('so', 'RB'),\n",
       " ('well', 'RB'),\n",
       " ('.', '.'),\n",
       " ('All', 'PDT'),\n",
       " ('that', 'DT'),\n",
       " ('time', 'NN'),\n",
       " ('the', 'DT'),\n",
       " ('Martians', 'NNPS'),\n",
       " ('must', 'MD'),\n",
       " ('have', 'VB'),\n",
       " ('been', 'VBN'),\n",
       " ('getting', 'VBG'),\n",
       " ('ready', 'JJ'),\n",
       " ('.', '.'),\n",
       " ('During', 'IN'),\n",
       " ('the', 'DT'),\n",
       " ('opposition', 'NN'),\n",
       " ('of', 'IN'),\n",
       " ('1894', 'CD'),\n",
       " ('a', 'DT'),\n",
       " ('great', 'JJ'),\n",
       " ('light', 'NN'),\n",
       " ('was', 'VBD'),\n",
       " ('seen', 'VBN'),\n",
       " ('on', 'IN'),\n",
       " ('the', 'DT'),\n",
       " ('illuminated', 'JJ'),\n",
       " ('part', 'NN'),\n",
       " ('of', 'IN'),\n",
       " ('the', 'DT'),\n",
       " ('disk', 'NN'),\n",
       " (',', ','),\n",
       " ('first', 'RB'),\n",
       " ('at', 'IN'),\n",
       " ('the', 'DT'),\n",
       " ('Lick', 'NNP'),\n",
       " ('Observatory', 'NNP'),\n",
       " (',', ','),\n",
       " ('then', 'RB'),\n",
       " ('by', 'IN'),\n",
       " ('Perrotin', 'NNP'),\n",
       " ('of', 'IN'),\n",
       " ('Nice', 'NNP'),\n",
       " (',', ','),\n",
       " ('and', 'CC'),\n",
       " ('then', 'RB'),\n",
       " ('by', 'IN'),\n",
       " ('other', 'JJ'),\n",
       " ('observers', 'NNS'),\n",
       " ('.', '.'),\n",
       " ('English', 'JJ'),\n",
       " ('readers', 'NNS'),\n",
       " ('heard', 'NN'),\n",
       " ('of', 'IN'),\n",
       " ('it', 'PRP'),\n",
       " ('first', 'RB'),\n",
       " ('in', 'IN'),\n",
       " ('the', 'DT'),\n",
       " ('issue', 'NN'),\n",
       " ('of', 'IN'),\n",
       " ('Nature', 'NNP'),\n",
       " ('dated', 'VBD'),\n",
       " ('August', 'NNP'),\n",
       " ('2', 'CD'),\n",
       " ('.', '.')]"
      ]
     },
     "execution_count": 77,
     "metadata": {},
     "output_type": "execute_result"
    }
   ],
   "source": [
    "nltk.download(\"averaged_perceptron_tagger\")\n",
    "words_pos_tags = nltk.pos_tag(words)\n",
    "words_pos_tags"
   ]
  },
  {
   "cell_type": "code",
   "execution_count": 78,
   "metadata": {},
   "outputs": [
    {
     "name": "stderr",
     "output_type": "stream",
     "text": [
      "[nltk_data] Downloading package maxent_ne_chunker to\n",
      "[nltk_data]     C:\\Users\\thanh\\AppData\\Roaming\\nltk_data...\n",
      "[nltk_data]   Package maxent_ne_chunker is already up-to-date!\n",
      "[nltk_data] Downloading package words to\n",
      "[nltk_data]     C:\\Users\\thanh\\AppData\\Roaming\\nltk_data...\n",
      "[nltk_data]   Package words is already up-to-date!\n"
     ]
    }
   ],
   "source": [
    "nltk.download(\"maxent_ne_chunker\")\n",
    "nltk.download(\"words\")\n",
    "tree = nltk.ne_chunk(words_pos_tags)"
   ]
  },
  {
   "cell_type": "code",
   "execution_count": 79,
   "metadata": {},
   "outputs": [],
   "source": [
    "quote = \"\"\"\n",
    "Men like Schiaparelli watched the red planet—it is odd, by-the-bye, that\n",
    "for countless centuries Mars has been the star of war—but failed to\n",
    "interpret the fluctuating appearances of the markings they mapped so well.\n",
    "All that time the Martians must have been getting ready.\n",
    "\n",
    "During the opposition of 1894 a great light was seen on the illuminated\n",
    "part of the disk, first at the Lick Observatory, then by Perrotin of Nice,\n",
    "and then by other observers. English readers heard of it first in the\n",
    "issue of Nature dated August 2.\"\"\""
   ]
  },
  {
   "cell_type": "code",
   "execution_count": 80,
   "metadata": {},
   "outputs": [
    {
     "name": "stdout",
     "output_type": "stream",
     "text": [
      "{''}\n"
     ]
    }
   ],
   "source": [
    "import nltk\n",
    "from nltk import word_tokenize, ne_chunk\n",
    "from nltk.chunk import tree2conlltags\n",
    "\n",
    "def extract_ne(quote):\n",
    "    words = word_tokenize(quote)\n",
    "    words_pos_tags = nltk.pos_tag(words)\n",
    "    tree = ne_chunk(words_pos_tags, binary=True)\n",
    "    ne = set()\n",
    "    for subtree in tree:\n",
    "        if isinstance(subtree, nltk.Tree):\n",
    "            ne.add(\" \".join([token for token, pos, chunk in tree2conlltags(subtree) if chunk == 'B-NE' or chunk == 'I-NE']))\n",
    "    return ne\n",
    "print(extract_ne(quote))\n"
   ]
  },
  {
   "cell_type": "markdown",
   "metadata": {},
   "source": [
    "# 9. Getting Text to Analyze\n",
    "---\n",
    "Now that you’ve done some text processing tasks with small example texts, you’re ready to analyze a bunch of texts at once. A group of texts is called a corpus."
   ]
  },
  {
   "cell_type": "code",
   "execution_count": 81,
   "metadata": {},
   "outputs": [
    {
     "name": "stderr",
     "output_type": "stream",
     "text": [
      "[nltk_data] Downloading collection 'book'\n",
      "[nltk_data]    | \n",
      "[nltk_data]    | Downloading package abc to\n",
      "[nltk_data]    |     C:\\Users\\thanh\\AppData\\Roaming\\nltk_data...\n",
      "[nltk_data]    |   Unzipping corpora\\abc.zip.\n",
      "[nltk_data]    | Downloading package brown to\n",
      "[nltk_data]    |     C:\\Users\\thanh\\AppData\\Roaming\\nltk_data...\n",
      "[nltk_data]    |   Unzipping corpora\\brown.zip.\n",
      "[nltk_data]    | Downloading package chat80 to\n",
      "[nltk_data]    |     C:\\Users\\thanh\\AppData\\Roaming\\nltk_data...\n",
      "[nltk_data]    |   Unzipping corpora\\chat80.zip.\n",
      "[nltk_data]    | Downloading package cmudict to\n",
      "[nltk_data]    |     C:\\Users\\thanh\\AppData\\Roaming\\nltk_data...\n",
      "[nltk_data]    |   Unzipping corpora\\cmudict.zip.\n",
      "[nltk_data]    | Downloading package conll2000 to\n",
      "[nltk_data]    |     C:\\Users\\thanh\\AppData\\Roaming\\nltk_data...\n",
      "[nltk_data]    |   Unzipping corpora\\conll2000.zip.\n",
      "[nltk_data]    | Downloading package conll2002 to\n",
      "[nltk_data]    |     C:\\Users\\thanh\\AppData\\Roaming\\nltk_data...\n",
      "[nltk_data]    |   Unzipping corpora\\conll2002.zip.\n",
      "[nltk_data]    | Downloading package dependency_treebank to\n",
      "[nltk_data]    |     C:\\Users\\thanh\\AppData\\Roaming\\nltk_data...\n",
      "[nltk_data]    |   Unzipping corpora\\dependency_treebank.zip.\n",
      "[nltk_data]    | Downloading package genesis to\n",
      "[nltk_data]    |     C:\\Users\\thanh\\AppData\\Roaming\\nltk_data...\n",
      "[nltk_data]    |   Unzipping corpora\\genesis.zip.\n",
      "[nltk_data]    | Downloading package gutenberg to\n",
      "[nltk_data]    |     C:\\Users\\thanh\\AppData\\Roaming\\nltk_data...\n",
      "[nltk_data]    |   Unzipping corpora\\gutenberg.zip.\n",
      "[nltk_data]    | Downloading package ieer to\n",
      "[nltk_data]    |     C:\\Users\\thanh\\AppData\\Roaming\\nltk_data...\n",
      "[nltk_data]    |   Unzipping corpora\\ieer.zip.\n",
      "[nltk_data]    | Downloading package inaugural to\n",
      "[nltk_data]    |     C:\\Users\\thanh\\AppData\\Roaming\\nltk_data...\n",
      "[nltk_data]    |   Unzipping corpora\\inaugural.zip.\n",
      "[nltk_data]    | Downloading package movie_reviews to\n",
      "[nltk_data]    |     C:\\Users\\thanh\\AppData\\Roaming\\nltk_data...\n",
      "[nltk_data]    |   Unzipping corpora\\movie_reviews.zip.\n",
      "[nltk_data]    | Downloading package nps_chat to\n",
      "[nltk_data]    |     C:\\Users\\thanh\\AppData\\Roaming\\nltk_data...\n",
      "[nltk_data]    |   Unzipping corpora\\nps_chat.zip.\n",
      "[nltk_data]    | Downloading package names to\n",
      "[nltk_data]    |     C:\\Users\\thanh\\AppData\\Roaming\\nltk_data...\n",
      "[nltk_data]    |   Unzipping corpora\\names.zip.\n",
      "[nltk_data]    | Downloading package ppattach to\n",
      "[nltk_data]    |     C:\\Users\\thanh\\AppData\\Roaming\\nltk_data...\n",
      "[nltk_data]    |   Unzipping corpora\\ppattach.zip.\n",
      "[nltk_data]    | Downloading package reuters to\n",
      "[nltk_data]    |     C:\\Users\\thanh\\AppData\\Roaming\\nltk_data...\n",
      "[nltk_data]    | Downloading package senseval to\n",
      "[nltk_data]    |     C:\\Users\\thanh\\AppData\\Roaming\\nltk_data...\n",
      "[nltk_data]    |   Unzipping corpora\\senseval.zip.\n",
      "[nltk_data]    | Downloading package state_union to\n",
      "[nltk_data]    |     C:\\Users\\thanh\\AppData\\Roaming\\nltk_data...\n",
      "[nltk_data]    |   Unzipping corpora\\state_union.zip.\n",
      "[nltk_data]    | Downloading package stopwords to\n",
      "[nltk_data]    |     C:\\Users\\thanh\\AppData\\Roaming\\nltk_data...\n",
      "[nltk_data]    |   Package stopwords is already up-to-date!\n",
      "[nltk_data]    | Downloading package swadesh to\n",
      "[nltk_data]    |     C:\\Users\\thanh\\AppData\\Roaming\\nltk_data...\n",
      "[nltk_data]    |   Unzipping corpora\\swadesh.zip.\n",
      "[nltk_data]    | Downloading package timit to\n",
      "[nltk_data]    |     C:\\Users\\thanh\\AppData\\Roaming\\nltk_data...\n",
      "[nltk_data]    |   Unzipping corpora\\timit.zip.\n",
      "[nltk_data]    | Downloading package treebank to\n",
      "[nltk_data]    |     C:\\Users\\thanh\\AppData\\Roaming\\nltk_data...\n",
      "[nltk_data]    |   Unzipping corpora\\treebank.zip.\n",
      "[nltk_data]    | Downloading package toolbox to\n",
      "[nltk_data]    |     C:\\Users\\thanh\\AppData\\Roaming\\nltk_data...\n",
      "[nltk_data]    |   Unzipping corpora\\toolbox.zip.\n",
      "[nltk_data]    | Downloading package udhr to\n",
      "[nltk_data]    |     C:\\Users\\thanh\\AppData\\Roaming\\nltk_data...\n",
      "[nltk_data]    |   Unzipping corpora\\udhr.zip.\n",
      "[nltk_data]    | Downloading package udhr2 to\n",
      "[nltk_data]    |     C:\\Users\\thanh\\AppData\\Roaming\\nltk_data...\n",
      "[nltk_data]    |   Unzipping corpora\\udhr2.zip.\n",
      "[nltk_data]    | Downloading package unicode_samples to\n",
      "[nltk_data]    |     C:\\Users\\thanh\\AppData\\Roaming\\nltk_data...\n",
      "[nltk_data]    |   Unzipping corpora\\unicode_samples.zip.\n",
      "[nltk_data]    | Downloading package webtext to\n",
      "[nltk_data]    |     C:\\Users\\thanh\\AppData\\Roaming\\nltk_data...\n",
      "[nltk_data]    |   Unzipping corpora\\webtext.zip.\n",
      "[nltk_data]    | Downloading package wordnet to\n",
      "[nltk_data]    |     C:\\Users\\thanh\\AppData\\Roaming\\nltk_data...\n",
      "[nltk_data]    |   Package wordnet is already up-to-date!\n",
      "[nltk_data]    | Downloading package wordnet_ic to\n",
      "[nltk_data]    |     C:\\Users\\thanh\\AppData\\Roaming\\nltk_data...\n",
      "[nltk_data]    |   Unzipping corpora\\wordnet_ic.zip.\n",
      "[nltk_data]    | Downloading package words to\n",
      "[nltk_data]    |     C:\\Users\\thanh\\AppData\\Roaming\\nltk_data...\n",
      "[nltk_data]    |   Package words is already up-to-date!\n",
      "[nltk_data]    | Downloading package maxent_treebank_pos_tagger to\n",
      "[nltk_data]    |     C:\\Users\\thanh\\AppData\\Roaming\\nltk_data...\n",
      "[nltk_data]    |   Unzipping taggers\\maxent_treebank_pos_tagger.zip.\n",
      "[nltk_data]    | Downloading package maxent_ne_chunker to\n",
      "[nltk_data]    |     C:\\Users\\thanh\\AppData\\Roaming\\nltk_data...\n",
      "[nltk_data]    |   Package maxent_ne_chunker is already up-to-date!\n",
      "[nltk_data]    | Downloading package universal_tagset to\n",
      "[nltk_data]    |     C:\\Users\\thanh\\AppData\\Roaming\\nltk_data...\n",
      "[nltk_data]    |   Unzipping taggers\\universal_tagset.zip.\n",
      "[nltk_data]    | Downloading package punkt to\n",
      "[nltk_data]    |     C:\\Users\\thanh\\AppData\\Roaming\\nltk_data...\n",
      "[nltk_data]    |   Package punkt is already up-to-date!\n",
      "[nltk_data]    | Downloading package book_grammars to\n",
      "[nltk_data]    |     C:\\Users\\thanh\\AppData\\Roaming\\nltk_data...\n",
      "[nltk_data]    |   Unzipping grammars\\book_grammars.zip.\n",
      "[nltk_data]    | Downloading package city_database to\n",
      "[nltk_data]    |     C:\\Users\\thanh\\AppData\\Roaming\\nltk_data...\n",
      "[nltk_data]    |   Unzipping corpora\\city_database.zip.\n",
      "[nltk_data]    | Downloading package tagsets to\n",
      "[nltk_data]    |     C:\\Users\\thanh\\AppData\\Roaming\\nltk_data...\n",
      "[nltk_data]    |   Unzipping help\\tagsets.zip.\n",
      "[nltk_data]    | Downloading package panlex_swadesh to\n",
      "[nltk_data]    |     C:\\Users\\thanh\\AppData\\Roaming\\nltk_data...\n",
      "[nltk_data]    | Downloading package averaged_perceptron_tagger to\n",
      "[nltk_data]    |     C:\\Users\\thanh\\AppData\\Roaming\\nltk_data...\n",
      "[nltk_data]    |   Package averaged_perceptron_tagger is already up-\n",
      "[nltk_data]    |       to-date!\n",
      "[nltk_data]    | \n",
      "[nltk_data]  Done downloading collection book\n"
     ]
    },
    {
     "name": "stdout",
     "output_type": "stream",
     "text": [
      "*** Introductory Examples for the NLTK Book ***\n",
      "Loading text1, ..., text9 and sent1, ..., sent9\n",
      "Type the name of the text or sentence to view it.\n",
      "Type: 'texts()' or 'sents()' to list the materials.\n",
      "text1: Moby Dick by Herman Melville 1851\n",
      "text2: Sense and Sensibility by Jane Austen 1811\n",
      "text3: The Book of Genesis\n",
      "text4: Inaugural Address Corpus\n",
      "text5: Chat Corpus\n",
      "text6: Monty Python and the Holy Grail\n",
      "text7: Wall Street Journal\n",
      "text8: Personals Corpus\n",
      "text9: The Man Who Was Thursday by G . K . Chesterton 1908\n",
      "text1: Moby Dick by Herman Melville 1851\n",
      "text2: Sense and Sensibility by Jane Austen 1811\n",
      "text3: The Book of Genesis\n",
      "text4: Inaugural Address Corpus\n",
      "text5: Chat Corpus\n",
      "text6: Monty Python and the Holy Grail\n",
      "text7: Wall Street Journal\n",
      "text8: Personals Corpus\n",
      "text9: The Man Who Was Thursday by G . K . Chesterton 1908\n"
     ]
    }
   ],
   "source": [
    "nltk.download(\"book\")\n",
    "from nltk.book import *\n",
    "texts()"
   ]
  },
  {
   "cell_type": "code",
   "execution_count": 82,
   "metadata": {},
   "outputs": [
    {
     "name": "stdout",
     "output_type": "stream",
     "text": [
      "sent1: Call me Ishmael .\n",
      "sent2: The family of Dashwood had long been settled in Sussex .\n",
      "sent3: In the beginning God created the heaven and the earth .\n",
      "sent4: Fellow - Citizens of the Senate and of the House of Representatives :\n",
      "sent5: I have a problem with people PMing me to lol JOIN\n",
      "sent6: SCENE 1 : [ wind ] [ clop clop clop ] KING ARTHUR : Whoa there !\n",
      "sent7: Pierre Vinken , 61 years old , will join the board as a nonexecutive director Nov. 29 .\n",
      "sent8: 25 SEXY MALE , seeks attrac older single lady , for discreet encounters .\n",
      "sent9: THE suburb of Saffron Park lay on the sunset side of London , as red and ragged as a cloud of sunset .\n"
     ]
    }
   ],
   "source": [
    "sents()"
   ]
  },
  {
   "cell_type": "markdown",
   "metadata": {},
   "source": [
    "# 10. Using a Concordance\n",
    "---\n",
    "When you use a concordance, you can see each time a word is used, along with its immediate context. This can give you a peek into how a word is being used at the sentence level and what words are used with it."
   ]
  },
  {
   "cell_type": "code",
   "execution_count": 83,
   "metadata": {},
   "outputs": [
    {
     "name": "stdout",
     "output_type": "stream",
     "text": [
      "<Text: Personals Corpus>\n"
     ]
    }
   ],
   "source": [
    "print(text8)"
   ]
  },
  {
   "cell_type": "code",
   "execution_count": 84,
   "metadata": {},
   "outputs": [
    {
     "name": "stdout",
     "output_type": "stream",
     "text": [
      "Displaying 14 of 14 matches:\n",
      " to hearing from you all . ABLE young man seeks , sexy older women . Phone for \n",
      "ble relationship . GENUINE ATTRACTIVE MAN 40 y . o ., no ties , secure , 5 ft .\n",
      "ship , and quality times . VIETNAMESE MAN Single , never married , financially \n",
      "ip . WELL DRESSED emotionally healthy man 37 like to meet full figured woman fo\n",
      " nth subs LIKE TO BE MISTRESS of YOUR MAN like to be treated well . Bold DTE no\n",
      "eeks lady in similar position MARRIED MAN 50 , attrac . fit , seeks lady 40 - 5\n",
      "eks nice girl 25 - 30 serious rship . Man 46 attractive fit , assertive , and k\n",
      " 40 - 50 sought by Aussie mid 40s b / man f / ship r / ship LOVE to meet widowe\n",
      "discreet times . Sth E Subs . MARRIED MAN 42yo 6ft , fit , seeks Lady for discr\n",
      "woman , seeks professional , employed man , with interests in theatre , dining \n",
      " tall and of large build seeks a good man . I am a nonsmoker , social drinker ,\n",
      "lead to relationship . SEEKING HONEST MAN I am 41 y . o ., 5 ft . 4 , med . bui\n",
      " quiet times . Seeks 35 - 45 , honest man with good SOH & similar interests , f\n",
      " genuine , caring , honest and normal man for fship , poss rship . S / S , S / \n"
     ]
    }
   ],
   "source": [
    "text8.concordance(\"man\")"
   ]
  },
  {
   "cell_type": "code",
   "execution_count": 85,
   "metadata": {},
   "outputs": [
    {
     "name": "stdout",
     "output_type": "stream",
     "text": [
      "Displaying 11 of 11 matches:\n",
      "at home . Seeking an honest , caring woman , slim or med . build , who enjoys t\n",
      "thy man 37 like to meet full figured woman for relationship . 48 slim , shy , S\n",
      "rry . MALE 58 years old . Is there a Woman who would like to spend 1 weekend a \n",
      " other interests . Seeking Christian Woman for fship , view to rship . SWM 45 D\n",
      "ALE 60 - burly beared seeks intimate woman for outings n / s s / d F / ston / P\n",
      "ington . SCORPIO 47 seeks passionate woman for discreet intimate encounters SEX\n",
      "le dad . 42 , East sub . 5 \" 9 seeks woman 30 + for f / ship relationship TALL \n",
      "personal trainer looking for married woman age open for fun MARRIED Dark guy 37\n",
      "rinker , seeking slim - medium build woman who is happy in life , age open . AC\n",
      ". O . TERTIARY Educated professional woman , seeks professional , employed man \n",
      " real romantic , age 50 - 65 y . o . WOMAN OF SUBSTANCE 56 , 59 kg ., 50 , fit \n"
     ]
    }
   ],
   "source": [
    "text8.concordance(\"woman\")"
   ]
  },
  {
   "cell_type": "code",
   "execution_count": 86,
   "metadata": {},
   "outputs": [
    {
     "data": {
      "image/png": "[encoded data removed]",
      "text/plain": [
       "<Figure size 640x480 with 1 Axes>"
      ]
     },
     "metadata": {},
     "output_type": "display_data"
    }
   ],
   "source": [
    "# making a dispersion plot\n",
    "# You can use a dispersion plot to see how much a particular word appears and where it appears. So far, we’ve looked for \"man\" and \"woman\", but it would be interesting to see how much those words are used compared to their synonyms:\n",
    "text8.dispersion_plot(\n",
    "    [\"woman\", \"lady\", \"girl\", \"gal\", \"man\", \"gentleman\", \"boy\", \"guy\"]\n",
    ")"
   ]
  },
  {
   "cell_type": "markdown",
   "metadata": {},
   "source": [
    "You use a dispersion plot when you want to see where words show up in a text or corpus. If you’re analyzing a single text, this can help you see which words show up near each other. If you’re analyzing a corpus of texts that is organized chronologically, it can help you see which words were being used more or less over a period of time."
   ]
  },
  {
   "cell_type": "code",
   "execution_count": 87,
   "metadata": {},
   "outputs": [
    {
     "data": {
      "image/png": "[encoded data removed]",
      "text/plain": [
       "<Figure size 640x480 with 1 Axes>"
      ]
     },
     "metadata": {},
     "output_type": "display_data"
    }
   ],
   "source": [
    "text2.dispersion_plot([\"Allenham\", \"Whitwell\", \"Cleveland\", \"Combe\"])"
   ]
  },
  {
   "cell_type": "markdown",
   "metadata": {},
   "source": [
    "Apparently Allenham is mentioned a lot in the first third of the novel and then doesn’t come up much again. Cleveland, on the other hand, barely comes up in the first two thirds but shows up a fair bit in the last third. This distribution reflects changes in the relationship between Marianne and Willoughby:\n",
    "\n",
    "- Allenham is the home of Willoughby’s benefactress and comes up a lot when Marianne is first interested in him.\n",
    "- Cleveland is a home that Marianne stays at after she goes to see Willoughby in London and things go wrong.\n",
    "Dispersion plots are just one type of visualization you can make for textual data. The next one you’ll take a look at is frequency distributions."
   ]
  },
  {
   "cell_type": "markdown",
   "metadata": {},
   "source": [
    "# 11. Making a Frequency Distribution\n",
    "----\n",
    "With a frequency distribution, you can check which words show up most frequently in your text. "
   ]
  },
  {
   "cell_type": "code",
   "execution_count": 88,
   "metadata": {},
   "outputs": [
    {
     "name": "stdout",
     "output_type": "stream",
     "text": [
      "<FreqDist with 1108 samples and 4867 outcomes>\n"
     ]
    }
   ],
   "source": [
    "from nltk import FreqDist\n",
    "frequency_distribution = FreqDist(text8)\n",
    "print(frequency_distribution)"
   ]
  },
  {
   "cell_type": "code",
   "execution_count": 89,
   "metadata": {},
   "outputs": [
    {
     "data": {
      "text/plain": [
       "[(',', 539),\n",
       " ('.', 353),\n",
       " ('/', 110),\n",
       " ('for', 99),\n",
       " ('and', 74),\n",
       " ('to', 74),\n",
       " ('lady', 68),\n",
       " ('-', 66),\n",
       " ('seeks', 60),\n",
       " ('a', 52)]"
      ]
     },
     "execution_count": 89,
     "metadata": {},
     "output_type": "execute_result"
    }
   ],
   "source": [
    "frequency_distribution.most_common(10)"
   ]
  },
  {
   "cell_type": "code",
   "execution_count": 90,
   "metadata": {},
   "outputs": [
    {
     "data": {
      "text/plain": [
       "['SEXY',\n",
       " 'MALE',\n",
       " 'seeks',\n",
       " 'attrac',\n",
       " 'older',\n",
       " 'single',\n",
       " 'lady',\n",
       " 'for',\n",
       " 'discreet',\n",
       " 'encounters',\n",
       " 'Security',\n",
       " 'Guard',\n",
       " 'seeking',\n",
       " 'lady',\n",
       " 'in',\n",
       " 'uniform',\n",
       " 'for',\n",
       " 'fun',\n",
       " 'times',\n",
       " 'yo',\n",
       " 'SINGLE',\n",
       " 'DAD',\n",
       " 'sincere',\n",
       " 'friendly',\n",
       " 'DTE',\n",
       " 'seeks',\n",
       " 'r',\n",
       " 'ship',\n",
       " 'with',\n",
       " 'fem',\n",
       " 'age',\n",
       " 'open',\n",
       " 'S',\n",
       " 'E',\n",
       " 'tall',\n",
       " 'seeks',\n",
       " 'working',\n",
       " 'single',\n",
       " 'mum',\n",
       " 'or',\n",
       " 'lady',\n",
       " 'below',\n",
       " 'fship',\n",
       " 'rship',\n",
       " 'Nat',\n",
       " 'Open',\n",
       " 'yr',\n",
       " 'old',\n",
       " 'OUTGOING',\n",
       " 'M',\n",
       " 'seeks',\n",
       " 'fem',\n",
       " 'for',\n",
       " 'o',\n",
       " 'door',\n",
       " 'sports',\n",
       " 'w',\n",
       " 'e',\n",
       " 'away',\n",
       " 'A',\n",
       " 'professional',\n",
       " 'business',\n",
       " 'male',\n",
       " 'late',\n",
       " 'feet',\n",
       " 'tall',\n",
       " 'slim',\n",
       " 'build',\n",
       " 'well',\n",
       " 'groomed',\n",
       " 'great',\n",
       " 'personality',\n",
       " 'home',\n",
       " 'owner',\n",
       " 'interests',\n",
       " 'include',\n",
       " 'the',\n",
       " 'arts',\n",
       " 'travel',\n",
       " 'and',\n",
       " 'all',\n",
       " 'things',\n",
       " 'good',\n",
       " 'Ringwood',\n",
       " 'area',\n",
       " 'is',\n",
       " 'seeking',\n",
       " 'a',\n",
       " 'genuine',\n",
       " 'female',\n",
       " 'of',\n",
       " 'similar',\n",
       " 'age',\n",
       " 'or',\n",
       " 'older',\n",
       " 'in',\n",
       " 'same',\n",
       " 'area',\n",
       " 'or',\n",
       " 'surrounds',\n",
       " 'for',\n",
       " 'a',\n",
       " 'meaningful',\n",
       " 'long',\n",
       " 'term',\n",
       " 'rship',\n",
       " 'Looking',\n",
       " 'forward',\n",
       " 'to',\n",
       " 'hearing',\n",
       " 'from',\n",
       " 'you',\n",
       " 'all',\n",
       " 'ABLE',\n",
       " 'young',\n",
       " 'man',\n",
       " 'seeks',\n",
       " 'sexy',\n",
       " 'older',\n",
       " 'women',\n",
       " 'Phone',\n",
       " 'for',\n",
       " 'fun',\n",
       " 'ready',\n",
       " 'to',\n",
       " 'play',\n",
       " 'AFFECTIONATE',\n",
       " 'LADY',\n",
       " 'Sought',\n",
       " 'by',\n",
       " 'generous',\n",
       " 'guy',\n",
       " 'mutual',\n",
       " 'fulfillment',\n",
       " 'ARE',\n",
       " 'YOU',\n",
       " 'ALONE',\n",
       " 'or',\n",
       " 'lost',\n",
       " 'in',\n",
       " 'a',\n",
       " 'r',\n",
       " 'ship',\n",
       " 'too',\n",
       " 'with',\n",
       " 'no',\n",
       " 'hope',\n",
       " 'in',\n",
       " 'sight',\n",
       " 'Maybe',\n",
       " 'we',\n",
       " 'could',\n",
       " 'explore',\n",
       " 'new',\n",
       " 'beginnings',\n",
       " 'together',\n",
       " 'Im',\n",
       " 'Slim',\n",
       " 'Med',\n",
       " 'build',\n",
       " 'GSOH',\n",
       " 'high',\n",
       " 'needs',\n",
       " 'and',\n",
       " 'looking',\n",
       " 'for',\n",
       " 'someone',\n",
       " 'similar',\n",
       " 'You',\n",
       " 'WONT',\n",
       " 'be',\n",
       " 'disappointed',\n",
       " 'AMIABLE',\n",
       " 'y',\n",
       " 'o',\n",
       " 'gentleman',\n",
       " 'with',\n",
       " 'European',\n",
       " 'background',\n",
       " 'cm',\n",
       " 'medium',\n",
       " 'build',\n",
       " 'employed',\n",
       " 'never',\n",
       " 'married',\n",
       " 'no',\n",
       " 'children',\n",
       " 'Enjoys',\n",
       " 'sports',\n",
       " 'music',\n",
       " 'cafes',\n",
       " 'beach',\n",
       " 'c',\n",
       " 'Seeks',\n",
       " 'an',\n",
       " 'honest',\n",
       " 'attractive',\n",
       " 'lady',\n",
       " 'with',\n",
       " 'a',\n",
       " 'European',\n",
       " 'background',\n",
       " 'without',\n",
       " 'children',\n",
       " 'who',\n",
       " 'would',\n",
       " 'like',\n",
       " 'to',\n",
       " 'get',\n",
       " 'married',\n",
       " 'and',\n",
       " 'have',\n",
       " 'chil',\n",
       " 'dren',\n",
       " 'in',\n",
       " 'the',\n",
       " 'future',\n",
       " 'y',\n",
       " 'o',\n",
       " 'Prefer',\n",
       " 'non',\n",
       " 'smoker',\n",
       " 'and',\n",
       " 'living',\n",
       " 'in',\n",
       " 'Adelaide',\n",
       " 'ARE',\n",
       " 'YOU',\n",
       " 'A',\n",
       " 'COPPER',\n",
       " 'REDHEAD',\n",
       " 'I',\n",
       " 'am',\n",
       " 'y',\n",
       " 'o',\n",
       " 'and',\n",
       " 'looking',\n",
       " 'for',\n",
       " 'companionship',\n",
       " 'friendship',\n",
       " 'I',\n",
       " 'enjoy',\n",
       " 'the',\n",
       " 'AFL',\n",
       " 'animals',\n",
       " 'and',\n",
       " 'dining',\n",
       " 'out',\n",
       " 'ATTRACTIVE',\n",
       " 'Y',\n",
       " 'O',\n",
       " 'medium',\n",
       " 'build',\n",
       " 'financially',\n",
       " 'secure',\n",
       " 'no',\n",
       " 'children',\n",
       " 'seeks',\n",
       " 'attractive',\n",
       " 'lady',\n",
       " 'up',\n",
       " 'to',\n",
       " 'y',\n",
       " 'o',\n",
       " 'with',\n",
       " 'no',\n",
       " 'children',\n",
       " 'I',\n",
       " 'enjoy',\n",
       " 'the',\n",
       " 'beach',\n",
       " 'sports',\n",
       " 'and',\n",
       " 'music',\n",
       " 'View',\n",
       " 'to',\n",
       " 'permanent',\n",
       " 'relationship',\n",
       " 'ATTRACTIVE',\n",
       " 'GUY',\n",
       " 'Late',\n",
       " 'Taurus',\n",
       " 'Into',\n",
       " 'fitness',\n",
       " 'cafes',\n",
       " 'movies',\n",
       " 'dinner',\n",
       " 'parties',\n",
       " 'Seeks',\n",
       " 'out',\n",
       " 'there',\n",
       " 'female',\n",
       " 'for',\n",
       " 'friendship',\n",
       " 'and',\n",
       " 'fun',\n",
       " 'AUSSIE',\n",
       " 'Solid',\n",
       " 'build',\n",
       " 'likes',\n",
       " 'music',\n",
       " 'movies',\n",
       " 'walks',\n",
       " 'on',\n",
       " 'the',\n",
       " 'beach',\n",
       " 'single',\n",
       " 'would',\n",
       " 'like',\n",
       " 'to',\n",
       " 'meet',\n",
       " 'lady',\n",
       " 'for',\n",
       " 'friendship',\n",
       " 'view',\n",
       " 'relationship',\n",
       " 'AUSTRALIAN',\n",
       " 'FATHER',\n",
       " 'With',\n",
       " 'y',\n",
       " 'o',\n",
       " 'son',\n",
       " 'living',\n",
       " 'with',\n",
       " 'me',\n",
       " 'Seeks',\n",
       " 'nice',\n",
       " 'caring',\n",
       " 'lady',\n",
       " 'who',\n",
       " 'likes',\n",
       " 'children',\n",
       " 'for',\n",
       " 'permanent',\n",
       " 're',\n",
       " 'lationship',\n",
       " 'in',\n",
       " 'coastal',\n",
       " 'town',\n",
       " 'on',\n",
       " 'Eyre',\n",
       " 'Peninsula',\n",
       " 'Age',\n",
       " 'open',\n",
       " 'to',\n",
       " 'AUSTRALIAN',\n",
       " 'SLIM',\n",
       " 'FUN',\n",
       " 'ft',\n",
       " 'Enjoy',\n",
       " 'BBQs',\n",
       " 'sport',\n",
       " 'fishing',\n",
       " 'going',\n",
       " 'out',\n",
       " 'for',\n",
       " 'meal',\n",
       " 'c',\n",
       " 'Fun',\n",
       " 'to',\n",
       " 'be',\n",
       " 'with',\n",
       " 'Looking',\n",
       " 'for',\n",
       " 'a',\n",
       " 'com',\n",
       " 'panion',\n",
       " 'aged',\n",
       " 'between',\n",
       " 'Must',\n",
       " 'be',\n",
       " 'genuine',\n",
       " 'and',\n",
       " 'good',\n",
       " 'fun',\n",
       " 'Possible',\n",
       " 'relationship',\n",
       " 'BEAUTIFUL',\n",
       " 'INTELLIGENT',\n",
       " 'CARING',\n",
       " 'MUSICAL',\n",
       " 'Shy',\n",
       " 'late',\n",
       " 'size',\n",
       " 'long',\n",
       " 'blonde',\n",
       " 'hair',\n",
       " 'and',\n",
       " 'likes',\n",
       " 'to',\n",
       " 'drink',\n",
       " 'Guiness',\n",
       " 'If',\n",
       " 'this',\n",
       " 'is',\n",
       " 'you',\n",
       " 'then',\n",
       " 'I',\n",
       " 'want',\n",
       " 'you',\n",
       " 'BLONDE',\n",
       " 'HAIR',\n",
       " 'BLUE',\n",
       " 'EYES',\n",
       " 'Medium',\n",
       " 'build',\n",
       " 'Im',\n",
       " 'in',\n",
       " 'my',\n",
       " 'early',\n",
       " 'Am',\n",
       " 'honest',\n",
       " 'caring',\n",
       " 'likes',\n",
       " 'fishing',\n",
       " 'animals',\n",
       " 'golf',\n",
       " 'bike',\n",
       " 'riding',\n",
       " 'TV',\n",
       " 'and',\n",
       " 'DVDs',\n",
       " 'quiet',\n",
       " 'nights',\n",
       " 'at',\n",
       " 'home',\n",
       " 'kissing',\n",
       " 'and',\n",
       " 'cuddling',\n",
       " 'up',\n",
       " 'to',\n",
       " 'a',\n",
       " 'special',\n",
       " 'person',\n",
       " 'in',\n",
       " 'my',\n",
       " 'life',\n",
       " 'Looking',\n",
       " 'for',\n",
       " 'a',\n",
       " 'caring',\n",
       " 'honest',\n",
       " 'lady',\n",
       " 'for',\n",
       " 'friendship',\n",
       " 'to',\n",
       " 'relationship',\n",
       " 'BUSINESSMAN',\n",
       " 'ish',\n",
       " 'Looking',\n",
       " 'for',\n",
       " 'lady',\n",
       " 'non',\n",
       " 'smoker',\n",
       " 'or',\n",
       " 'taller',\n",
       " 'with',\n",
       " 'business',\n",
       " 'outlook',\n",
       " 'no',\n",
       " 'ties',\n",
       " 'be',\n",
       " 'prepared',\n",
       " 'to',\n",
       " 'travel',\n",
       " 'and',\n",
       " 'enjoy',\n",
       " 'outdoor',\n",
       " 'sports',\n",
       " 'cars',\n",
       " 'boats',\n",
       " 'etc',\n",
       " 'wining',\n",
       " 'dining',\n",
       " 'Must',\n",
       " 'have',\n",
       " 's',\n",
       " 'o',\n",
       " 'h',\n",
       " 'and',\n",
       " 'have',\n",
       " 'modern',\n",
       " 'outlook',\n",
       " 'CUDDLY',\n",
       " 'FULL',\n",
       " 'FIGURED',\n",
       " 'LADY',\n",
       " 'plus',\n",
       " 'sought',\n",
       " 'by',\n",
       " 'Australian',\n",
       " 'gent',\n",
       " 'early',\n",
       " 'financially',\n",
       " 'secure',\n",
       " 'non',\n",
       " 'drinker',\n",
       " 'non',\n",
       " 'smoker',\n",
       " 'for',\n",
       " 'permanent',\n",
       " 'relationship',\n",
       " 'FIT',\n",
       " 'ACTIVE',\n",
       " 'EASYGOING',\n",
       " 'y',\n",
       " 'o',\n",
       " 'male',\n",
       " 'ft',\n",
       " 'med',\n",
       " 'build',\n",
       " 'fit',\n",
       " 'and',\n",
       " 'healthy',\n",
       " 'fully',\n",
       " 'employed',\n",
       " 'no',\n",
       " 'ties',\n",
       " 'non',\n",
       " 'smoker',\n",
       " 'light',\n",
       " 'drinker',\n",
       " 'Seeking',\n",
       " 'female',\n",
       " 'friend',\n",
       " 'attractive',\n",
       " 'ft',\n",
       " 'Med',\n",
       " 'to',\n",
       " 'slim',\n",
       " 'build',\n",
       " 'View',\n",
       " 'towards',\n",
       " 'a',\n",
       " 'permanent',\n",
       " 'relationship',\n",
       " 'Give',\n",
       " 'me',\n",
       " 'a',\n",
       " 'call',\n",
       " 'lets',\n",
       " 'have',\n",
       " 'a',\n",
       " 'chat',\n",
       " 'GENUINE',\n",
       " 'AND',\n",
       " 'HONEST',\n",
       " 'Hi',\n",
       " 'Im',\n",
       " 'with',\n",
       " 'a',\n",
       " 'good',\n",
       " 'sense',\n",
       " 'of',\n",
       " 'humour',\n",
       " 'am',\n",
       " 'romantic',\n",
       " 'and',\n",
       " 'love',\n",
       " 'drives',\n",
       " 'fishing',\n",
       " 'camping',\n",
       " 'and',\n",
       " 'music',\n",
       " 'Love',\n",
       " 'my',\n",
       " 'kids',\n",
       " 'Am',\n",
       " 'looking',\n",
       " 'for',\n",
       " 'a',\n",
       " 'lady',\n",
       " 'with',\n",
       " 'similar',\n",
       " 'interests',\n",
       " 'aged',\n",
       " 'between',\n",
       " 'for',\n",
       " 'friendship',\n",
       " 'possible',\n",
       " 'relationship',\n",
       " 'GENUINE',\n",
       " 'ATTRACTIVE',\n",
       " 'MAN',\n",
       " 'y',\n",
       " 'o',\n",
       " 'no',\n",
       " 'ties',\n",
       " 'secure',\n",
       " 'ft',\n",
       " 'slim',\n",
       " 'build',\n",
       " 'I',\n",
       " 'enjoy',\n",
       " 'outdoors',\n",
       " 'gym',\n",
       " 'beach',\n",
       " 'country',\n",
       " 'drives',\n",
       " 'and',\n",
       " 'quiet',\n",
       " 'nights',\n",
       " 'at',\n",
       " 'home',\n",
       " 'Seeking',\n",
       " 'an',\n",
       " 'honest',\n",
       " 'caring',\n",
       " 'woman',\n",
       " 'slim',\n",
       " 'or',\n",
       " 'med',\n",
       " 'build',\n",
       " 'who',\n",
       " 'enjoys',\n",
       " 'the',\n",
       " 'simple',\n",
       " 'things',\n",
       " 'in',\n",
       " 'life',\n",
       " 'Age',\n",
       " 'open',\n",
       " 'GOOD',\n",
       " 'LISTENER',\n",
       " 'Well',\n",
       " 'educated',\n",
       " 'tall',\n",
       " 'blue',\n",
       " 'eyes',\n",
       " 'brown',\n",
       " 'hair',\n",
       " 'Mid',\n",
       " 'good',\n",
       " 'looking',\n",
       " 'honest',\n",
       " 'n',\n",
       " 'smoker',\n",
       " 'Likes',\n",
       " 'movies',\n",
       " 'drives',\n",
       " 'nights',\n",
       " 'in',\n",
       " 'looks',\n",
       " 'not',\n",
       " 'important',\n",
       " 'nor',\n",
       " 'distance',\n",
       " 'speed',\n",
       " 'Looking',\n",
       " 'for',\n",
       " 'someone',\n",
       " 'to',\n",
       " 'complete',\n",
       " 'my',\n",
       " 'social',\n",
       " 'circles',\n",
       " 'Age',\n",
       " 'open',\n",
       " 'friendship',\n",
       " 'relationship',\n",
       " 'GREEK',\n",
       " 'AUST',\n",
       " 'MALE',\n",
       " 'Early',\n",
       " 'slim',\n",
       " 'build',\n",
       " 'non',\n",
       " 'smoker',\n",
       " 'enjoys',\n",
       " 'dining',\n",
       " 'out',\n",
       " 'movies',\n",
       " 'bbqs',\n",
       " 'football',\n",
       " 'and',\n",
       " 'quiet',\n",
       " 'nights',\n",
       " 'at',\n",
       " 'home',\n",
       " 'Seeking',\n",
       " 'slim',\n",
       " 'attractive',\n",
       " 'female',\n",
       " 'with',\n",
       " 'similar',\n",
       " 'interests',\n",
       " 'for',\n",
       " 'friend',\n",
       " 'ship',\n",
       " 'relationship',\n",
       " 'HANDSOME',\n",
       " 'BUSINESSMAN',\n",
       " 'Tall',\n",
       " 'slim',\n",
       " 'independant',\n",
       " 'under',\n",
       " 'standing',\n",
       " 'mid',\n",
       " 'looking',\n",
       " 'for',\n",
       " 'classy',\n",
       " 'lady',\n",
       " 'who',\n",
       " 'wants',\n",
       " 'to',\n",
       " 'retain',\n",
       " 'her',\n",
       " 'privacy',\n",
       " 'still',\n",
       " 'retain',\n",
       " 'her',\n",
       " 'independance',\n",
       " 'and',\n",
       " 'is',\n",
       " 'looking',\n",
       " 'for',\n",
       " 'a',\n",
       " 'special',\n",
       " 'private',\n",
       " 'relationship',\n",
       " 'HERE',\n",
       " 'I',\n",
       " 'AM',\n",
       " 'PICK',\n",
       " 'ME',\n",
       " 'PICK',\n",
       " 'ME',\n",
       " 'Now',\n",
       " 'that',\n",
       " 'I',\n",
       " 'have',\n",
       " 'your',\n",
       " 'attention',\n",
       " 'Im',\n",
       " 'a',\n",
       " 'y',\n",
       " 'o',\n",
       " 'attractive',\n",
       " 'guy',\n",
       " 'non',\n",
       " 'smoker',\n",
       " 'social',\n",
       " 'drinker',\n",
       " 'fit',\n",
       " 'and',\n",
       " 'active',\n",
       " 'is',\n",
       " 'seeking',\n",
       " 'a',\n",
       " 'slim',\n",
       " 'medium',\n",
       " 'lady',\n",
       " 'for',\n",
       " 'friendship',\n",
       " 'relationship',\n",
       " 'LIMESTONE',\n",
       " 'COAST',\n",
       " 'REGION',\n",
       " 'Attractive',\n",
       " 'fit',\n",
       " 'and',\n",
       " 'healthy',\n",
       " 'y',\n",
       " 'o',\n",
       " 'country',\n",
       " 'guy',\n",
       " 'Interests',\n",
       " 'incl',\n",
       " 'self',\n",
       " 'sufficiencies',\n",
       " 'permaculture',\n",
       " 'animals',\n",
       " 'and',\n",
       " 'travel',\n",
       " 'would',\n",
       " 'like',\n",
       " 'to',\n",
       " 'meet',\n",
       " 'an',\n",
       " 'attractive',\n",
       " 'non',\n",
       " 'smoking',\n",
       " 'fun',\n",
       " 'loving',\n",
       " 'lady',\n",
       " 'for',\n",
       " 'friendship',\n",
       " 'view',\n",
       " 'to',\n",
       " 'permanent',\n",
       " 'relationship',\n",
       " 'MALE',\n",
       " 'LATE',\n",
       " 's',\n",
       " 'AUST',\n",
       " 'Single',\n",
       " 'tall',\n",
       " 'prof',\n",
       " 'Interests',\n",
       " 'Music',\n",
       " 'theatre',\n",
       " 'dining',\n",
       " 'art',\n",
       " 'the',\n",
       " 'beach',\n",
       " 'and',\n",
       " 'the',\n",
       " 'environment',\n",
       " 'Seeking',\n",
       " 'female',\n",
       " 'with',\n",
       " 'similar',\n",
       " 'interests',\n",
       " 'to',\n",
       " 'share',\n",
       " 'concerts',\n",
       " 'dining',\n",
       " 'etc',\n",
       " 'OUTGOING',\n",
       " 'GUY',\n",
       " 'Late',\n",
       " 'seeks',\n",
       " 'lady',\n",
       " 'size',\n",
       " 'unimportant',\n",
       " 'for',\n",
       " 'fun',\n",
       " 'and',\n",
       " 'good',\n",
       " 'times',\n",
       " 'RETIRED',\n",
       " 'GENT',\n",
       " 'Like',\n",
       " 'to',\n",
       " 'meet',\n",
       " 'slim',\n",
       " 'lady',\n",
       " 'for',\n",
       " 'long',\n",
       " 'term',\n",
       " 'caravan',\n",
       " 'travel',\n",
       " 'heading',\n",
       " 'Darwin',\n",
       " 'in',\n",
       " 'May',\n",
       " 'share',\n",
       " 'driving',\n",
       " 'Must',\n",
       " 'have',\n",
       " 'sense',\n",
       " 'of',\n",
       " 'humour',\n",
       " 'non',\n",
       " 'smoker',\n",
       " 'Age',\n",
       " 'open',\n",
       " 'ROMANTIC',\n",
       " 'y',\n",
       " 'o',\n",
       " 'with',\n",
       " 'one',\n",
       " 'child',\n",
       " 'Likes',\n",
       " 'dining',\n",
       " 'movies',\n",
       " 'beach',\n",
       " 'country',\n",
       " 'drives',\n",
       " 'quiet',\n",
       " 'nights',\n",
       " 'seeks',\n",
       " 'employed',\n",
       " 'year',\n",
       " 'old',\n",
       " 'lady',\n",
       " 'for',\n",
       " 'relationship',\n",
       " 'Clare',\n",
       " 'or',\n",
       " 'Barossa',\n",
       " 'region',\n",
       " 'or',\n",
       " 'northern',\n",
       " 'suburbs',\n",
       " 'TALL',\n",
       " 'ATTRACTIVE',\n",
       " 'MALE',\n",
       " 'no',\n",
       " 'ties',\n",
       " 'down',\n",
       " 'to',\n",
       " 'earth',\n",
       " 'easy',\n",
       " 'going',\n",
       " 'with',\n",
       " 'a',\n",
       " 'sense',\n",
       " 'of',\n",
       " 'humour',\n",
       " 'understanding',\n",
       " 'with',\n",
       " 'varied',\n",
       " 'interests',\n",
       " 'seeks',\n",
       " 'genuine',\n",
       " 'female',\n",
       " 'for',\n",
       " 'friendship',\n",
       " 'relationship',\n",
       " 'and',\n",
       " 'quality',\n",
       " 'times',\n",
       " 'VIETNAMESE',\n",
       " 'MAN',\n",
       " 'Single',\n",
       " 'never',\n",
       " 'married',\n",
       " 'financially',\n",
       " 'secure',\n",
       " 'Seeks',\n",
       " 'Australian',\n",
       " 'lady',\n",
       " 'for',\n",
       " 'genuine',\n",
       " 'relationship',\n",
       " 'single',\n",
       " 'mum',\n",
       " 'welcome',\n",
       " 'aged',\n",
       " 'up',\n",
       " 'to',\n",
       " 'WIDOW',\n",
       " 'EARLY',\n",
       " 's',\n",
       " 'Self',\n",
       " 'employed',\n",
       " 'professional',\n",
       " 'well',\n",
       " 'established',\n",
       " 'slim',\n",
       " 'build',\n",
       " 'UK',\n",
       " 'born',\n",
       " 'many',\n",
       " 'interests',\n",
       " 'incl',\n",
       " 'Sports',\n",
       " 'cars',\n",
       " 'sexy',\n",
       " 'young',\n",
       " 'for',\n",
       " 'age',\n",
       " 'looks',\n",
       " 'and',\n",
       " 'outlook',\n",
       " 'seeks',\n",
       " 'short',\n",
       " 'or',\n",
       " 'long',\n",
       " 'term',\n",
       " 'relationship',\n",
       " 'with',\n",
       " 'slim',\n",
       " 'petite',\n",
       " 'lady',\n",
       " 'any',\n",
       " 'age',\n",
       " 'up',\n",
       " 'to',\n",
       " 'years',\n",
       " 'YO',\n",
       " 'GUY',\n",
       " 'Slim',\n",
       " 'Seeks',\n",
       " 'yo',\n",
       " 'female',\n",
       " 'for',\n",
       " 'friendship',\n",
       " 'relationship',\n",
       " 'kids',\n",
       " 'ok',\n",
       " 'Eastern',\n",
       " 'Suburbs',\n",
       " 'yo',\n",
       " 'Male',\n",
       " 'blond',\n",
       " 'outgoing',\n",
       " 'genuine',\n",
       " 'friendly',\n",
       " 'seeking',\n",
       " 'female',\n",
       " 'bet',\n",
       " 'w',\n",
       " 'yo',\n",
       " 'easygoing',\n",
       " 'friendly',\n",
       " 'YEAR',\n",
       " 'OLD',\n",
       " 'Working',\n",
       " ...]"
      ]
     },
     "execution_count": 90,
     "metadata": {},
     "output_type": "execute_result"
    }
   ],
   "source": [
    "meaningful_words = [word for word in text8 if word.casefold not in stop_words and word.isalpha()]\n",
    "meaningful_words"
   ]
  },
  {
   "cell_type": "code",
   "execution_count": 91,
   "metadata": {},
   "outputs": [
    {
     "data": {
      "image/png": "[encoded data removed]",
      "text/plain": [
       "<Figure size 640x480 with 1 Axes>"
      ]
     },
     "metadata": {},
     "output_type": "display_data"
    },
    {
     "data": {
      "text/plain": [
       "<Axes: xlabel='Samples', ylabel='Cumulative Counts'>"
      ]
     },
     "execution_count": 91,
     "metadata": {},
     "output_type": "execute_result"
    }
   ],
   "source": [
    "frequency_distribution.plot(20, cumulative=True)"
   ]
  },
  {
   "cell_type": "markdown",
   "metadata": {},
   "source": [
    "From what you’ve already learned about the people writing these personals ads, they did seem interested in honesty and used the word 'lady' a lot. In addition, 'slim' and 'build' both show up the same number of times. You saw slim and build used near each other when you were learning about concordances, so maybe those two words are commonly used together in this corpus. That brings us to collocations!"
   ]
  },
  {
   "cell_type": "markdown",
   "metadata": {},
   "source": [
    "# 12. Finding Collocations\n",
    "---\n",
    "A collocation is a sequence of words that shows up often."
   ]
  },
  {
   "cell_type": "code",
   "execution_count": 92,
   "metadata": {},
   "outputs": [
    {
     "name": "stdout",
     "output_type": "stream",
     "text": [
      "would like; medium build; social drinker; quiet nights; non smoker;\n",
      "long term; age open; Would like; easy going; financially secure; fun\n",
      "times; similar interests; Age open; weekends away; poss rship; well\n",
      "presented; never married; single mum; permanent relationship; slim\n",
      "build\n"
     ]
    }
   ],
   "source": [
    "text8.collocations()"
   ]
  },
  {
   "cell_type": "code",
   "execution_count": 93,
   "metadata": {},
   "outputs": [
    {
     "name": "stdout",
     "output_type": "stream",
     "text": [
      "\n",
      "None\n"
     ]
    }
   ],
   "source": [
    "lemmatized_words = [lemmatizer.lemmatize(word) for word in words] \n",
    "new_text = nltk.Text(lemmatized_words)\n",
    "print(new_text.collocations())"
   ]
  },
  {
   "cell_type": "code",
   "execution_count": null,
   "metadata": {},
   "outputs": [],
   "source": []
  }
 ],
 "metadata": {
  "kernelspec": {
   "display_name": "Python 3",
   "language": "python",
   "name": "python3"
  },
  "language_info": {
   "codemirror_mode": {
    "name": "ipython",
    "version": 3
   },
   "file_extension": ".py",
   "mimetype": "text/x-python",
   "name": "python",
   "nbconvert_exporter": "python",
   "pygments_lexer": "ipython3",
   "version": "3.12.1"
  }
 },
 "nbformat": 4,
 "nbformat_minor": 2
}
