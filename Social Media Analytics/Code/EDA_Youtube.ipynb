{
 "cells": [
  {
   "cell_type": "code",
   "execution_count": 1,
   "metadata": {},
   "outputs": [],
   "source": [
    "import pandas as pd\n",
    "\n",
    "comments_df = pd.read_excel(r'D:\\GitHub\\UEL-Course\\Social Media Analytics\\Data\\Lipovitan_Comment_Youtube.xlsx')\n",
    "youtube_df = pd.read_excel(r'D:\\GitHub\\UEL-Course\\Social Media Analytics\\Data\\Lipovitan_Youtube.xlsx')\n",
    "\n",
    "df1 = comments_df.copy()\n",
    "df2 = youtube_df.copy()\n"
   ]
  },
  {
   "cell_type": "code",
   "execution_count": 4,
   "metadata": {},
   "outputs": [
    {
     "name": "stdout",
     "output_type": "stream",
     "text": [
      "<class 'pandas.core.frame.DataFrame'>\n",
      "RangeIndex: 24 entries, 0 to 23\n",
      "Data columns (total 2 columns):\n",
      " #   Column    Non-Null Count  Dtype \n",
      "---  ------    --------------  ----- \n",
      " 0   Video ID  24 non-null     object\n",
      " 1   Comment   24 non-null     object\n",
      "dtypes: object(2)\n",
      "memory usage: 516.0+ bytes\n",
      "None\n",
      "      Video ID                                            Comment\n",
      "0  JYztFHcRxsU  Quảng cáo nhạc cuốn quá bị lôi vào đây tìm cho...\n",
      "1  kIHx2mfqTRk  2 danh thủ của bóng đá Việt Nam là:Trần Công M...\n",
      "2  kIHx2mfqTRk            Nước này ở 1 số tiệm tạp hóa vẫn bán nè\n",
      "3  kIHx2mfqTRk                                  Phan văn tài em 👍\n",
      "4  kIHx2mfqTRk                    Quảng cáo ngày xưa ngầu thực sự\n",
      "<class 'pandas.core.frame.DataFrame'>\n",
      "RangeIndex: 157 entries, 0 to 156\n",
      "Data columns (total 8 columns):\n",
      " #   Column             Non-Null Count  Dtype \n",
      "---  ------             --------------  ----- \n",
      " 0   video_id           157 non-null    object\n",
      " 1   channel_id         157 non-null    object\n",
      " 2   published_date     157 non-null    object\n",
      " 3   video_title        157 non-null    object\n",
      " 4   video_description  157 non-null    object\n",
      " 5   likes              157 non-null    int64 \n",
      " 6   views              157 non-null    int64 \n",
      " 7   comment_count      157 non-null    int64 \n",
      "dtypes: int64(3), object(5)\n",
      "memory usage: 9.9+ KB\n",
      "None\n",
      "      video_id                channel_id        published_date  \\\n",
      "0  fozg9rJpsU8  UC-NVmcQ2iV7c_F_vg92uyMg  2021-03-24T01:12:28Z   \n",
      "1  JYztFHcRxsU  UC-NVmcQ2iV7c_F_vg92uyMg  2023-12-08T09:21:47Z   \n",
      "2  Fbdtn7S02jc  UC-NVmcQ2iV7c_F_vg92uyMg  2023-12-13T03:07:21Z   \n",
      "3  kIHx2mfqTRk  UC-NVmcQ2iV7c_F_vg92uyMg  2021-03-24T09:23:29Z   \n",
      "4  MlHc5U4Ki80  UC-NVmcQ2iV7c_F_vg92uyMg  2023-12-25T07:38:52Z   \n",
      "\n",
      "                                         video_title  \\\n",
      "0  LIPOVITAN - Nước Tăng Lực Mang Thương Hiệu Nhậ...   \n",
      "1           ⚡ Tết Rồng Phúc Quý – Năng Lượng Như Ý 🐲   \n",
      "2                     Tết 2024 | Việc Gì Khó Có Lipo   \n",
      "3              LIPOVITAN - Nước Tăng Lực Từ Nhật Bản   \n",
      "4           TẾT 2024 | TẾT KHÔNG SỢ KHÓ, ĐÃ CÓ LIPO!   \n",
      "\n",
      "                                   video_description  likes    views  \\\n",
      "0  LIPOVITAN - Một trong những thương hiệu nước t...     22     7673   \n",
      "1  Tết đến cận kề, bầu không khí rộn ràng khắp ph...     11     2514   \n",
      "2  🌼 Tết 2024 | Việc Gì Khó Có Lipo 💪\\n\\nTết Nguy...     10  3431949   \n",
      "3  👍 LIPOVITAN – CHINH PHỤC BẠN SAU 3 LON\\n⚡Bạn c...     39    15313   \n",
      "4  Tết đến nơi rồi, ôi dzồi ôi các anh mình ơi!!!...      1      601   \n",
      "\n",
      "   comment_count  \n",
      "0              0  \n",
      "1              1  \n",
      "2              0  \n",
      "3             10  \n",
      "4              0  \n"
     ]
    }
   ],
   "source": [
    "print(df1.info())\n",
    "print(df1.head())\n",
    "\n",
    "print(df2.info())\n",
    "print(df2.head())\n"
   ]
  },
  {
   "cell_type": "code",
   "execution_count": 5,
   "metadata": {},
   "outputs": [
    {
     "name": "stdout",
     "output_type": "stream",
     "text": [
      "Có 13 Video ID chung giữa hai bộ dữ liệu.\n",
      "Các Video ID chung: {'XCvVcYPFr6A', 'cw4kx_bwmig', 'j-i8kB993r8', 'XEImRiQj4Fg', 'GEOa7jzhbmo', 'cwGsDQpPG2M', 'kIHx2mfqTRk', 'JLQwoGoU_QA', '5pkEHAoERpY', 'hNKktMJ3d4s', 'j_YTNFbW_W8', 'JYztFHcRxsU', 'Afe5ZF7Z22c'}\n"
     ]
    }
   ],
   "source": [
    "\n",
    "\n",
    "# Tìm Video ID chung giữa hai DataFrame\n",
    "common_ids = set(df1['Video ID']).intersection(set(df2['video_id']))\n",
    "\n",
    "# Kiểm tra xem có bất kỳ Video ID nào chung không và in ra số lượng\n",
    "print(f\"Có {len(common_ids)} Video ID chung giữa hai bộ dữ liệu.\")\n",
    "\n",
    "# Nếu bạn muốn xem các Video ID chung\n",
    "if len(common_ids) > 0:\n",
    "    print(\"Các Video ID chung:\", common_ids)\n"
   ]
  }
 ],
 "metadata": {
  "kernelspec": {
   "display_name": "Python 3",
   "language": "python",
   "name": "python3"
  },
  "language_info": {
   "codemirror_mode": {
    "name": "ipython",
    "version": 3
   },
   "file_extension": ".py",
   "mimetype": "text/x-python",
   "name": "python",
   "nbconvert_exporter": "python",
   "pygments_lexer": "ipython3",
   "version": "3.12.1"
  }
 },
 "nbformat": 4,
 "nbformat_minor": 2
}
