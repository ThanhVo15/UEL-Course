{
 "cells": [
  {
   "cell_type": "markdown",
   "metadata": {},
   "source": [
    "# I. Import Dataset"
   ]
  },
  {
   "cell_type": "markdown",
   "metadata": {},
   "source": [
    "## 1.1 Upload and Overview"
   ]
  },
  {
   "cell_type": "code",
   "execution_count": 11,
   "metadata": {},
   "outputs": [
    {
     "data": {
      "text/plain": [
       "(                                             Comment  \\\n",
       " 0                                             quá đã   \n",
       " 1  Thôi anhoi111111111111111111111111111111111111...   \n",
       " 2                        Nhà xe nào bị thanh tra vậy   \n",
       " 3                                       Đi tàu nhé 😅   \n",
       " 4                                ui tin real hả mn😳😳   \n",
       " \n",
       "                                                 Link  \n",
       " 0  https://www.tiktok.com/@lipovitan.vn/video/731...  \n",
       " 1  https://www.tiktok.com/@lipovitan.vn/video/731...  \n",
       " 2  https://www.tiktok.com/@lipovitan.vn/video/731...  \n",
       " 3  https://www.tiktok.com/@lipovitan.vn/video/731...  \n",
       " 4  https://www.tiktok.com/@lipovitan.vn/video/731...  ,\n",
       "                                              Comment  \\\n",
       " 0                                   Ko có đà nẵng :<   \n",
       " 1                                  Bẻ lái khét quá 😂   \n",
       " 2                          Ước được đi phi cơ riêng🤡   \n",
       " 3                  redbull chiếm trọn trái tim bạn ❤   \n",
       " 4  Về Việt Nam k biết có thay đổi vị ko chứ ở bên...   \n",
       " \n",
       "                                                 Link  \n",
       " 0  https://www.tiktok.com/@lipovitan.vn/video/731...  \n",
       " 1  https://www.tiktok.com/@lipovitan.vn/video/731...  \n",
       " 2  https://www.tiktok.com/@lipovitan.vn/video/731...  \n",
       " 3  https://www.tiktok.com/@lipovitan.vn/video/731...  \n",
       " 4  https://www.tiktok.com/@lipovitan.vn/video/731...  ,\n",
       "                                         Comment  \\\n",
       " 0            sao một số nơi ko có loại nước này   \n",
       " 1                     giải bài vật lý 9 hộ em ạ   \n",
       " 2                  Libo giúp mình quên nic đc k   \n",
       " 3                       nói thật nước ko ngon 😳   \n",
       " 4  giao cho em bình ở hasaki gần 999,999,999đ 😁   \n",
       " \n",
       "                                                 Link  \n",
       " 0  https://www.tiktok.com/@lipovitan.vn/video/731...  \n",
       " 1  https://www.tiktok.com/@lipovitan.vn/video/731...  \n",
       " 2  https://www.tiktok.com/@lipovitan.vn/video/731...  \n",
       " 3  https://www.tiktok.com/@lipovitan.vn/video/731...  \n",
       " 4  https://www.tiktok.com/@lipovitan.vn/video/731...  ,\n",
       "                                           Comment  \\\n",
       " 0                               uống tỉnh táo lắm   \n",
       " 1                                               😘   \n",
       " 2                        Coi xong hết muốn uống 😂   \n",
       " 3  hình như anh hiếu thứ 2 7/10 về cà mau đk z mn   \n",
       " 4                                        chọn vẹn   \n",
       " \n",
       "                                                 Link  \n",
       " 0  https://www.tiktok.com/@lipovitan.vn/video/728...  \n",
       " 1  https://www.tiktok.com/@lipovitan.vn/video/728...  \n",
       " 2  https://www.tiktok.com/@lipovitan.vn/video/728...  \n",
       " 3  https://www.tiktok.com/@lipovitan.vn/video/728...  \n",
       " 4  https://www.tiktok.com/@lipovitan.vn/video/728...  ,\n",
       "                                              Comment  \\\n",
       " 0  hi😅😅😅 quảng cáo hay quá🥰 nhiều đăc điểm , xem ...   \n",
       " 1                Quanh đi quẩn lại vẫn là quảng cáo😂   \n",
       " 2           Chó: sen ơi tao nằm đây mà không thấy hả   \n",
       " 3  @phuocta205 @nhp2810 @tranloc01 @thaiminhluan0...   \n",
       " 4                                      Anh thương vợ   \n",
       " \n",
       "                                                 Link  \n",
       " 0  https://www.tiktok.com/@lipovitan.vn/video/710...  \n",
       " 1  https://www.tiktok.com/@lipovitan.vn/video/710...  \n",
       " 2  https://www.tiktok.com/@lipovitan.vn/video/710...  \n",
       " 3  https://www.tiktok.com/@lipovitan.vn/video/710...  \n",
       " 4  https://www.tiktok.com/@lipovitan.vn/video/710...  ,\n",
       "                                              Comment  \\\n",
       " 0                                       Nguyễn Hương   \n",
       " 1                                       Revu Vietnam   \n",
       " 2                                  Top fan\\nTrần Nam   \n",
       " 3                                        Nguyễn Hiền   \n",
       " 4  Thanh Lê\\nQuá tuyệt vời, vừa chất lượng vừa đẹ...   \n",
       " \n",
       "                                                 Link  \n",
       " 0  https://www.facebook.com/Lipovitan.vn/posts/pf...  \n",
       " 1  https://www.facebook.com/Lipovitan.vn/posts/pf...  \n",
       " 2  https://www.facebook.com/Lipovitan.vn/posts/pf...  \n",
       " 3  https://www.facebook.com/Lipovitan.vn/posts/pf...  \n",
       " 4  https://www.facebook.com/Lipovitan.vn/posts/pf...  )"
      ]
     },
     "execution_count": 11,
     "metadata": {},
     "output_type": "execute_result"
    }
   ],
   "source": [
    "import pandas as pd\n",
    "\n",
    "# Load the first few lines of each file to inspect their structure\n",
    "file_paths = [\n",
    "    r\"D:\\GitHub\\UEL-Course\\Social Media Analytics\\Data\\comments_tiktok1.csv\",\n",
    "    r\"D:\\GitHub\\UEL-Course\\Social Media Analytics\\Data\\comments_tiktok2.csv\",\n",
    "    r\"D:\\GitHub\\UEL-Course\\Social Media Analytics\\Data\\comments_tiktok3.csv\",\n",
    "    r\"D:\\GitHub\\UEL-Course\\Social Media Analytics\\Data\\comments_tiktok4.csv\",\n",
    "    r\"D:\\GitHub\\UEL-Course\\Social Media Analytics\\Data\\comments_tiktok5.csv\",\n",
    "    r\"D:\\GitHub\\UEL-Course\\Social Media Analytics\\Data\\comments.csv\"\n",
    "]\n",
    "\n",
    "# Inspect the first few lines of each file\n",
    "file_previews = {path: pd.read_csv(path, nrows=5) for path in file_paths}\n",
    "file_previews_keys = list(file_previews.keys())\n",
    "file_previews[file_previews_keys[0]], file_previews[file_previews_keys[1]], file_previews[file_previews_keys[2]], file_previews[file_previews_keys[3]], file_previews[file_previews_keys[4]], file_previews[file_previews_keys[5]]\n"
   ]
  },
  {
   "cell_type": "code",
   "execution_count": 12,
   "metadata": {},
   "outputs": [
    {
     "data": {
      "text/plain": [
       "'D:\\\\GitHub\\\\UEL-Course\\\\Social Media Analytics\\\\Data\\\\combined_comments.csv'"
      ]
     },
     "execution_count": 12,
     "metadata": {},
     "output_type": "execute_result"
    }
   ],
   "source": [
    "# Combine all files into one DataFrame\n",
    "combined_df = pd.concat([pd.read_csv(file) for file in file_paths])\n",
    "\n",
    "# Save the combined DataFrame to a new CSV file\n",
    "combined_csv_path = r\"D:\\GitHub\\UEL-Course\\Social Media Analytics\\Data\\combined_comments.csv\"\n",
    "combined_df.to_csv(combined_csv_path, index=False)\n",
    "\n",
    "combined_csv_path\n"
   ]
  },
  {
   "cell_type": "code",
   "execution_count": 13,
   "metadata": {},
   "outputs": [
    {
     "data": {
      "text/html": [
       "<div>\n",
       "<style scoped>\n",
       "    .dataframe tbody tr th:only-of-type {\n",
       "        vertical-align: middle;\n",
       "    }\n",
       "\n",
       "    .dataframe tbody tr th {\n",
       "        vertical-align: top;\n",
       "    }\n",
       "\n",
       "    .dataframe thead th {\n",
       "        text-align: right;\n",
       "    }\n",
       "</style>\n",
       "<table border=\"1\" class=\"dataframe\">\n",
       "  <thead>\n",
       "    <tr style=\"text-align: right;\">\n",
       "      <th></th>\n",
       "      <th>Comment</th>\n",
       "      <th>Link</th>\n",
       "    </tr>\n",
       "  </thead>\n",
       "  <tbody>\n",
       "    <tr>\n",
       "      <th>0</th>\n",
       "      <td>quá đã</td>\n",
       "      <td>https://www.tiktok.com/@lipovitan.vn/video/731...</td>\n",
       "    </tr>\n",
       "    <tr>\n",
       "      <th>1</th>\n",
       "      <td>Thôi anhoi111111111111111111111111111111111111...</td>\n",
       "      <td>https://www.tiktok.com/@lipovitan.vn/video/731...</td>\n",
       "    </tr>\n",
       "    <tr>\n",
       "      <th>2</th>\n",
       "      <td>Nhà xe nào bị thanh tra vậy</td>\n",
       "      <td>https://www.tiktok.com/@lipovitan.vn/video/731...</td>\n",
       "    </tr>\n",
       "    <tr>\n",
       "      <th>3</th>\n",
       "      <td>Đi tàu nhé 😅</td>\n",
       "      <td>https://www.tiktok.com/@lipovitan.vn/video/731...</td>\n",
       "    </tr>\n",
       "    <tr>\n",
       "      <th>4</th>\n",
       "      <td>ui tin real hả mn😳😳</td>\n",
       "      <td>https://www.tiktok.com/@lipovitan.vn/video/731...</td>\n",
       "    </tr>\n",
       "  </tbody>\n",
       "</table>\n",
       "</div>"
      ],
      "text/plain": [
       "                                             Comment  \\\n",
       "0                                             quá đã   \n",
       "1  Thôi anhoi111111111111111111111111111111111111...   \n",
       "2                        Nhà xe nào bị thanh tra vậy   \n",
       "3                                       Đi tàu nhé 😅   \n",
       "4                                ui tin real hả mn😳😳   \n",
       "\n",
       "                                                Link  \n",
       "0  https://www.tiktok.com/@lipovitan.vn/video/731...  \n",
       "1  https://www.tiktok.com/@lipovitan.vn/video/731...  \n",
       "2  https://www.tiktok.com/@lipovitan.vn/video/731...  \n",
       "3  https://www.tiktok.com/@lipovitan.vn/video/731...  \n",
       "4  https://www.tiktok.com/@lipovitan.vn/video/731...  "
      ]
     },
     "execution_count": 13,
     "metadata": {},
     "output_type": "execute_result"
    }
   ],
   "source": [
    "df_org = pd.read_csv(r'D:\\GitHub\\UEL-Course\\Social Media Analytics\\Data\\combined_comments.csv', )\n",
    "df = df_org.copy()\n",
    "df.head()"
   ]
  },
  {
   "cell_type": "code",
   "execution_count": 14,
   "metadata": {},
   "outputs": [
    {
     "name": "stdout",
     "output_type": "stream",
     "text": [
      "<class 'pandas.core.frame.DataFrame'>\n",
      "RangeIndex: 2575 entries, 0 to 2574\n",
      "Data columns (total 2 columns):\n",
      " #   Column   Non-Null Count  Dtype \n",
      "---  ------   --------------  ----- \n",
      " 0   Comment  2544 non-null   object\n",
      " 1   Link     2575 non-null   object\n",
      "dtypes: object(2)\n",
      "memory usage: 40.4+ KB\n"
     ]
    }
   ],
   "source": [
    "df.info()"
   ]
  },
  {
   "cell_type": "code",
   "execution_count": 15,
   "metadata": {},
   "outputs": [
    {
     "data": {
      "text/html": [
       "<div>\n",
       "<style scoped>\n",
       "    .dataframe tbody tr th:only-of-type {\n",
       "        vertical-align: middle;\n",
       "    }\n",
       "\n",
       "    .dataframe tbody tr th {\n",
       "        vertical-align: top;\n",
       "    }\n",
       "\n",
       "    .dataframe thead th {\n",
       "        text-align: right;\n",
       "    }\n",
       "</style>\n",
       "<table border=\"1\" class=\"dataframe\">\n",
       "  <thead>\n",
       "    <tr style=\"text-align: right;\">\n",
       "      <th></th>\n",
       "      <th>Comment</th>\n",
       "      <th>Link</th>\n",
       "    </tr>\n",
       "  </thead>\n",
       "  <tbody>\n",
       "    <tr>\n",
       "      <th>count</th>\n",
       "      <td>2544</td>\n",
       "      <td>2575</td>\n",
       "    </tr>\n",
       "    <tr>\n",
       "      <th>unique</th>\n",
       "      <td>1927</td>\n",
       "      <td>106</td>\n",
       "    </tr>\n",
       "    <tr>\n",
       "      <th>top</th>\n",
       "      <td>Thanh Lê</td>\n",
       "      <td>https://www.tiktok.com/@lipovitan.vn/video/709...</td>\n",
       "    </tr>\n",
       "    <tr>\n",
       "      <th>freq</th>\n",
       "      <td>18</td>\n",
       "      <td>296</td>\n",
       "    </tr>\n",
       "  </tbody>\n",
       "</table>\n",
       "</div>"
      ],
      "text/plain": [
       "         Comment                                               Link\n",
       "count       2544                                               2575\n",
       "unique      1927                                                106\n",
       "top     Thanh Lê  https://www.tiktok.com/@lipovitan.vn/video/709...\n",
       "freq          18                                                296"
      ]
     },
     "execution_count": 15,
     "metadata": {},
     "output_type": "execute_result"
    }
   ],
   "source": [
    "df.describe()"
   ]
  },
  {
   "cell_type": "markdown",
   "metadata": {},
   "source": [
    "## 1.2 Dealing with null and duplicated row"
   ]
  },
  {
   "cell_type": "code",
   "execution_count": 16,
   "metadata": {},
   "outputs": [
    {
     "data": {
      "text/plain": [
       "(Comment    31\n",
       " Link        0\n",
       " dtype: int64,\n",
       " 366)"
      ]
     },
     "execution_count": 16,
     "metadata": {},
     "output_type": "execute_result"
    }
   ],
   "source": [
    "# Check for null values and duplicated rows\n",
    "null_values = df.isnull().sum()\n",
    "duplicated_rows = df.duplicated().sum()\n",
    "\n",
    "null_values, duplicated_rows\n"
   ]
  },
  {
   "cell_type": "code",
   "execution_count": 17,
   "metadata": {},
   "outputs": [
    {
     "data": {
      "text/plain": [
       "(2209, 2)"
      ]
     },
     "execution_count": 17,
     "metadata": {},
     "output_type": "execute_result"
    }
   ],
   "source": [
    "# Remove duplicated rows\n",
    "df = df.drop_duplicates()\n",
    "\n",
    "# Check the shape of the dataframe after removing duplicates\n",
    "shape_after_deduplication = df.shape\n",
    "\n",
    "shape_after_deduplication\n"
   ]
  },
  {
   "cell_type": "code",
   "execution_count": 18,
   "metadata": {},
   "outputs": [
    {
     "data": {
      "text/plain": [
       "(Comment    2\n",
       " Link       0\n",
       " dtype: int64,\n",
       " 0)"
      ]
     },
     "execution_count": 18,
     "metadata": {},
     "output_type": "execute_result"
    }
   ],
   "source": [
    "# Check for null values and duplicated rows\n",
    "null_values = df.isnull().sum()\n",
    "duplicated_rows = df.duplicated().sum()\n",
    "\n",
    "null_values, duplicated_rows\n"
   ]
  },
  {
   "cell_type": "code",
   "execution_count": 19,
   "metadata": {},
   "outputs": [
    {
     "data": {
      "text/plain": [
       "(2207, 2)"
      ]
     },
     "execution_count": 19,
     "metadata": {},
     "output_type": "execute_result"
    }
   ],
   "source": [
    "# Remove rows with null values in the 'Comment' column\n",
    "df = df.dropna(subset=['Comment'])\n",
    "\n",
    "# Check the shape of the dataframe after removing null values\n",
    "shape_after_null_removal = df.shape\n",
    "\n",
    "shape_after_null_removal\n"
   ]
  },
  {
   "cell_type": "markdown",
   "metadata": {},
   "source": [
    "# II. EDA"
   ]
  },
  {
   "cell_type": "markdown",
   "metadata": {},
   "source": [
    "## 2.1 Comment Length Analysis"
   ]
  },
  {
   "cell_type": "code",
   "execution_count": 21,
   "metadata": {},
   "outputs": [
    {
     "data": {
      "image/png": "[encoded data removed]",
      "text/plain": [
       "<Figure size 1000x600 with 1 Axes>"
      ]
     },
     "metadata": {},
     "output_type": "display_data"
    }
   ],
   "source": [
    "# Calculate the length of each comment\n",
    "df['Comment_Length'] = df['Comment'].apply(len)\n",
    "\n",
    "# Calculate the average length of comments\n",
    "average_comment_length = df['Comment_Length'].mean()\n",
    "\n",
    "# Plot the distribution of comment lengths\n",
    "import matplotlib.pyplot as plt\n",
    "import seaborn as sns\n",
    "\n",
    "plt.figure(figsize=(10, 6))\n",
    "sns.histplot(df['Comment_Length'], bins=50, kde=True)\n",
    "plt.title('Distribution of Comment Lengths')\n",
    "plt.xlabel('Comment Length')\n",
    "plt.ylabel('Frequency')\n",
    "plt.axvline(average_comment_length, color='r', linestyle='--', label=f'Average Length: {average_comment_length:.2f}')\n",
    "plt.legend()\n",
    "plt.show()\n"
   ]
  },
  {
   "cell_type": "code",
   "execution_count": 26,
   "metadata": {},
   "outputs": [
    {
     "name": "stdout",
     "output_type": "stream",
     "text": [
      "1       Thôi anhoi111111111111111111111111111111111111...\n",
      "70      Hồi đó nhớ đi chung xe với mẹ nằm 1 cái dường ...\n",
      "95      ngày trước bán vé xe thág tết mệt lã người luô...\n",
      "105     đi xe thà đi tàu mình hcm về thanh hóa 12 năm ...\n",
      "203     Lúc nhỏ thì em rất thích Tết nhưng bây giờ em ...\n",
      "                              ...                        \n",
      "2533    Author\\nNước Tăng Lực Lipovitan\\nAnh Tran Bạn ...\n",
      "2541    Author\\nNước Tăng Lực Lipovitan\\nCổ Quốc Tuấn ...\n",
      "2543    Nước Tăng Lực Lipovitan\\nTuấn Trường Bạn tham ...\n",
      "2559    Author\\nNước Tăng Lực Lipovitan\\nThanh Huy Cha...\n",
      "2566    Author\\nNước Tăng Lực Lipovitan\\nThao Thu Hihi...\n",
      "Name: Comment, Length: 104, dtype: object\n"
     ]
    }
   ],
   "source": [
    "# Calculate Q1, Q3, and IQR\n",
    "Q1 = df['Comment_Length'].quantile(0.25)\n",
    "Q3 = df['Comment_Length'].quantile(0.75)\n",
    "IQR = Q3 - Q1\n",
    "\n",
    "# Define the threshold for outliers\n",
    "outlier_threshold = Q3 + 1.5 * IQR\n",
    "\n",
    "# Filter the dataframe to find the outliers\n",
    "long_comments = df[df['Comment_Length'] > outlier_threshold]\n",
    "\n",
    "# Display the outliers\n",
    "long_comments[['Comment', 'Comment_Length']].sort_values(by='Comment_Length', ascending=False)\n",
    "\n",
    "print( long_comments['Comment'])\n"
   ]
  },
  {
   "cell_type": "markdown",
   "metadata": {},
   "source": [
    "- **Need more knowledge about NLP in VietNam**"
   ]
  },
  {
   "cell_type": "markdown",
   "metadata": {},
   "source": [
    "## 2.2 Sentiment Analysis"
   ]
  },
  {
   "cell_type": "code",
   "execution_count": 28,
   "metadata": {},
   "outputs": [
    {
     "name": "stdout",
     "output_type": "stream",
     "text": [
      "Requirement already satisfied: textblob in c:\\users\\thanh\\appdata\\local\\programs\\python\\python312\\lib\\site-packages (0.18.0.post0)\n",
      "Requirement already satisfied: nltk>=3.8 in c:\\users\\thanh\\appdata\\local\\programs\\python\\python312\\lib\\site-packages (from textblob) (3.8.1)\n",
      "Requirement already satisfied: click in c:\\users\\thanh\\appdata\\local\\programs\\python\\python312\\lib\\site-packages (from nltk>=3.8->textblob) (8.1.7)\n",
      "Requirement already satisfied: joblib in c:\\users\\thanh\\appdata\\local\\programs\\python\\python312\\lib\\site-packages (from nltk>=3.8->textblob) (1.3.2)\n",
      "Requirement already satisfied: regex>=2021.8.3 in c:\\users\\thanh\\appdata\\local\\programs\\python\\python312\\lib\\site-packages (from nltk>=3.8->textblob) (2023.12.25)\n",
      "Requirement already satisfied: tqdm in c:\\users\\thanh\\appdata\\local\\programs\\python\\python312\\lib\\site-packages (from nltk>=3.8->textblob) (4.66.2)\n",
      "Requirement already satisfied: colorama in c:\\users\\thanh\\appdata\\local\\programs\\python\\python312\\lib\\site-packages (from click->nltk>=3.8->textblob) (0.4.6)\n"
     ]
    }
   ],
   "source": [
    "from textblob import TextBlob\n",
    "import pandas as pd\n",
    "import matplotlib.pyplot as plt"
   ]
  },
  {
   "cell_type": "code",
   "execution_count": 29,
   "metadata": {},
   "outputs": [],
   "source": [
    "df['Polarity'] = df['Comment'].apply(lambda x: TextBlob(x).sentiment.polarity)\n",
    "df['Sentiment'] = pd.cut(df['Polarity'], bins=3, labels=[\"Negative\", \"Neutral\", \"Positive\"])"
   ]
  },
  {
   "cell_type": "code",
   "execution_count": 32,
   "metadata": {},
   "outputs": [
    {
     "data": {
      "text/html": [
       "<div>\n",
       "<style scoped>\n",
       "    .dataframe tbody tr th:only-of-type {\n",
       "        vertical-align: middle;\n",
       "    }\n",
       "\n",
       "    .dataframe tbody tr th {\n",
       "        vertical-align: top;\n",
       "    }\n",
       "\n",
       "    .dataframe thead th {\n",
       "        text-align: right;\n",
       "    }\n",
       "</style>\n",
       "<table border=\"1\" class=\"dataframe\">\n",
       "  <thead>\n",
       "    <tr style=\"text-align: right;\">\n",
       "      <th></th>\n",
       "      <th>Comment</th>\n",
       "      <th>Link</th>\n",
       "      <th>Comment_Length</th>\n",
       "      <th>Polarity</th>\n",
       "      <th>Sentiment</th>\n",
       "    </tr>\n",
       "  </thead>\n",
       "  <tbody>\n",
       "    <tr>\n",
       "      <th>0</th>\n",
       "      <td>quá đã</td>\n",
       "      <td>https://www.tiktok.com/@lipovitan.vn/video/731...</td>\n",
       "      <td>6</td>\n",
       "      <td>0.00</td>\n",
       "      <td>Neutral</td>\n",
       "    </tr>\n",
       "    <tr>\n",
       "      <th>1</th>\n",
       "      <td>Thôi anhoi111111111111111111111111111111111111...</td>\n",
       "      <td>https://www.tiktok.com/@lipovitan.vn/video/731...</td>\n",
       "      <td>149</td>\n",
       "      <td>0.00</td>\n",
       "      <td>Neutral</td>\n",
       "    </tr>\n",
       "    <tr>\n",
       "      <th>2</th>\n",
       "      <td>Nhà xe nào bị thanh tra vậy</td>\n",
       "      <td>https://www.tiktok.com/@lipovitan.vn/video/731...</td>\n",
       "      <td>27</td>\n",
       "      <td>0.00</td>\n",
       "      <td>Neutral</td>\n",
       "    </tr>\n",
       "    <tr>\n",
       "      <th>3</th>\n",
       "      <td>Đi tàu nhé 😅</td>\n",
       "      <td>https://www.tiktok.com/@lipovitan.vn/video/731...</td>\n",
       "      <td>12</td>\n",
       "      <td>0.00</td>\n",
       "      <td>Neutral</td>\n",
       "    </tr>\n",
       "    <tr>\n",
       "      <th>4</th>\n",
       "      <td>ui tin real hả mn😳😳</td>\n",
       "      <td>https://www.tiktok.com/@lipovitan.vn/video/731...</td>\n",
       "      <td>19</td>\n",
       "      <td>0.20</td>\n",
       "      <td>Neutral</td>\n",
       "    </tr>\n",
       "    <tr>\n",
       "      <th>...</th>\n",
       "      <td>...</td>\n",
       "      <td>...</td>\n",
       "      <td>...</td>\n",
       "      <td>...</td>\n",
       "      <td>...</td>\n",
       "    </tr>\n",
       "    <tr>\n",
       "      <th>2568</th>\n",
       "      <td>Minh Thiên\\nChỉ vĩnh phúc mới có mà thôi</td>\n",
       "      <td>https://www.facebook.com/Lipovitan.vn/posts/pf...</td>\n",
       "      <td>39</td>\n",
       "      <td>0.00</td>\n",
       "      <td>Neutral</td>\n",
       "    </tr>\n",
       "    <tr>\n",
       "      <th>2569</th>\n",
       "      <td>Author\\nNước Tăng Lực Lipovitan\\nMinh Thiên Mo...</td>\n",
       "      <td>https://www.facebook.com/Lipovitan.vn/posts/pf...</td>\n",
       "      <td>94</td>\n",
       "      <td>0.00</td>\n",
       "      <td>Neutral</td>\n",
       "    </tr>\n",
       "    <tr>\n",
       "      <th>2570</th>\n",
       "      <td>Ng Vương Gia Long\\nlike hộ tus acc mới up nha b</td>\n",
       "      <td>https://www.facebook.com/Lipovitan.vn/posts/pf...</td>\n",
       "      <td>46</td>\n",
       "      <td>-0.05</td>\n",
       "      <td>Neutral</td>\n",
       "    </tr>\n",
       "    <tr>\n",
       "      <th>2571</th>\n",
       "      <td>Ng Vương Gia Long\\nlike cho glong tus acc mới ...</td>\n",
       "      <td>https://www.facebook.com/Lipovitan.vn/posts/pf...</td>\n",
       "      <td>63</td>\n",
       "      <td>-0.05</td>\n",
       "      <td>Neutral</td>\n",
       "    </tr>\n",
       "    <tr>\n",
       "      <th>2572</th>\n",
       "      <td>Huyen Chi\\nttql nhó</td>\n",
       "      <td>https://www.facebook.com/Lipovitan.vn/posts/pf...</td>\n",
       "      <td>18</td>\n",
       "      <td>0.00</td>\n",
       "      <td>Neutral</td>\n",
       "    </tr>\n",
       "  </tbody>\n",
       "</table>\n",
       "<p>2207 rows × 5 columns</p>\n",
       "</div>"
      ],
      "text/plain": [
       "                                                Comment  \\\n",
       "0                                                quá đã   \n",
       "1     Thôi anhoi111111111111111111111111111111111111...   \n",
       "2                           Nhà xe nào bị thanh tra vậy   \n",
       "3                                          Đi tàu nhé 😅   \n",
       "4                                   ui tin real hả mn😳😳   \n",
       "...                                                 ...   \n",
       "2568           Minh Thiên\\nChỉ vĩnh phúc mới có mà thôi   \n",
       "2569  Author\\nNước Tăng Lực Lipovitan\\nMinh Thiên Mo...   \n",
       "2570    Ng Vương Gia Long\\nlike hộ tus acc mới up nha b   \n",
       "2571  Ng Vương Gia Long\\nlike cho glong tus acc mới ...   \n",
       "2572                                Huyen Chi\\nttql nhó   \n",
       "\n",
       "                                                   Link  Comment_Length  \\\n",
       "0     https://www.tiktok.com/@lipovitan.vn/video/731...               6   \n",
       "1     https://www.tiktok.com/@lipovitan.vn/video/731...             149   \n",
       "2     https://www.tiktok.com/@lipovitan.vn/video/731...              27   \n",
       "3     https://www.tiktok.com/@lipovitan.vn/video/731...              12   \n",
       "4     https://www.tiktok.com/@lipovitan.vn/video/731...              19   \n",
       "...                                                 ...             ...   \n",
       "2568  https://www.facebook.com/Lipovitan.vn/posts/pf...              39   \n",
       "2569  https://www.facebook.com/Lipovitan.vn/posts/pf...              94   \n",
       "2570  https://www.facebook.com/Lipovitan.vn/posts/pf...              46   \n",
       "2571  https://www.facebook.com/Lipovitan.vn/posts/pf...              63   \n",
       "2572  https://www.facebook.com/Lipovitan.vn/posts/pf...              18   \n",
       "\n",
       "      Polarity Sentiment  \n",
       "0         0.00   Neutral  \n",
       "1         0.00   Neutral  \n",
       "2         0.00   Neutral  \n",
       "3         0.00   Neutral  \n",
       "4         0.20   Neutral  \n",
       "...        ...       ...  \n",
       "2568      0.00   Neutral  \n",
       "2569      0.00   Neutral  \n",
       "2570     -0.05   Neutral  \n",
       "2571     -0.05   Neutral  \n",
       "2572      0.00   Neutral  \n",
       "\n",
       "[2207 rows x 5 columns]"
      ]
     },
     "execution_count": 32,
     "metadata": {},
     "output_type": "execute_result"
    }
   ],
   "source": [
    "df"
   ]
  },
  {
   "cell_type": "code",
   "execution_count": 30,
   "metadata": {},
   "outputs": [
    {
     "data": {
      "image/png": "[encoded data removed]",
      "text/plain": [
       "<Figure size 800x600 with 1 Axes>"
      ]
     },
     "metadata": {},
     "output_type": "display_data"
    }
   ],
   "source": [
    "\n",
    "sentiment_counts = df['Sentiment'].value_counts()\n",
    "plt.figure(figsize=(8, 6))\n",
    "sentiment_counts.plot(kind='bar')\n",
    "plt.title('Sentiment Analysis')\n",
    "plt.xlabel('Sentiment')\n",
    "plt.ylabel('Counts')\n",
    "plt.show()\n"
   ]
  },
  {
   "cell_type": "markdown",
   "metadata": {},
   "source": [
    "- Find out that NOT WORKING WELL with comment from VietNam so we can try another method"
   ]
  },
  {
   "cell_type": "code",
   "execution_count": 35,
   "metadata": {},
   "outputs": [
    {
     "name": "stdout",
     "output_type": "stream",
     "text": [
      "Collecting underthesea\n",
      "  Using cached underthesea-6.8.0-py3-none-any.whl.metadata (14 kB)\n",
      "Requirement already satisfied: Click>=6.0 in c:\\users\\thanh\\appdata\\local\\programs\\python\\python312\\lib\\site-packages (from underthesea) (8.1.7)\n",
      "Collecting python-crfsuite>=0.9.6 (from underthesea)\n",
      "  Using cached python_crfsuite-0.9.10-cp312-cp312-win_amd64.whl.metadata (4.3 kB)\n",
      "Requirement already satisfied: nltk in c:\\users\\thanh\\appdata\\local\\programs\\python\\python312\\lib\\site-packages (from underthesea) (3.8.1)\n",
      "Requirement already satisfied: tqdm in c:\\users\\thanh\\appdata\\local\\programs\\python\\python312\\lib\\site-packages (from underthesea) (4.66.2)\n",
      "Requirement already satisfied: requests in c:\\users\\thanh\\appdata\\local\\programs\\python\\python312\\lib\\site-packages (from underthesea) (2.31.0)\n",
      "Requirement already satisfied: joblib in c:\\users\\thanh\\appdata\\local\\programs\\python\\python312\\lib\\site-packages (from underthesea) (1.3.2)\n",
      "Requirement already satisfied: scikit-learn in c:\\users\\thanh\\appdata\\local\\programs\\python\\python312\\lib\\site-packages (from underthesea) (1.3.2)\n",
      "Requirement already satisfied: PyYAML in c:\\users\\thanh\\appdata\\local\\programs\\python\\python312\\lib\\site-packages (from underthesea) (6.0.1)\n",
      "Collecting underthesea-core==1.0.4 (from underthesea)\n",
      "  Using cached underthesea_core-1.0.4.tar.gz (560 kB)\n",
      "  Installing build dependencies: started\n",
      "  Installing build dependencies: finished with status 'done'\n",
      "  Getting requirements to build wheel: started\n",
      "  Getting requirements to build wheel: finished with status 'done'\n",
      "Note: you may need to restart the kernel to use updated packages.\n"
     ]
    },
    {
     "name": "stderr",
     "output_type": "stream",
     "text": [
      "ERROR: Exception:\n",
      "Traceback (most recent call last):\n",
      "  File \"c:\\Users\\thanh\\AppData\\Local\\Programs\\Python\\Python312\\Lib\\site-packages\\pip\\_internal\\cli\\base_command.py\", line 180, in exc_logging_wrapper\n",
      "    status = run_func(*args)\n",
      "             ^^^^^^^^^^^^^^^\n",
      "  File \"c:\\Users\\thanh\\AppData\\Local\\Programs\\Python\\Python312\\Lib\\site-packages\\pip\\_internal\\cli\\req_command.py\", line 245, in wrapper\n",
      "    return func(self, options, args)\n",
      "           ^^^^^^^^^^^^^^^^^^^^^^^^^\n",
      "  File \"c:\\Users\\thanh\\AppData\\Local\\Programs\\Python\\Python312\\Lib\\site-packages\\pip\\_internal\\commands\\install.py\", line 377, in run\n",
      "    requirement_set = resolver.resolve(\n",
      "                      ^^^^^^^^^^^^^^^^^\n",
      "  File \"c:\\Users\\thanh\\AppData\\Local\\Programs\\Python\\Python312\\Lib\\site-packages\\pip\\_internal\\resolution\\resolvelib\\resolver.py\", line 95, in resolve\n",
      "    result = self._result = resolver.resolve(\n",
      "                            ^^^^^^^^^^^^^^^^^\n",
      "  File \"c:\\Users\\thanh\\AppData\\Local\\Programs\\Python\\Python312\\Lib\\site-packages\\pip\\_vendor\\resolvelib\\resolvers.py\", line 546, in resolve\n",
      "    state = resolution.resolve(requirements, max_rounds=max_rounds)\n",
      "            ^^^^^^^^^^^^^^^^^^^^^^^^^^^^^^^^^^^^^^^^^^^^^^^^^^^^^^^\n",
      "  File \"c:\\Users\\thanh\\AppData\\Local\\Programs\\Python\\Python312\\Lib\\site-packages\\pip\\_vendor\\resolvelib\\resolvers.py\", line 427, in resolve\n",
      "    failure_causes = self._attempt_to_pin_criterion(name)\n",
      "                     ^^^^^^^^^^^^^^^^^^^^^^^^^^^^^^^^^^^^\n",
      "  File \"c:\\Users\\thanh\\AppData\\Local\\Programs\\Python\\Python312\\Lib\\site-packages\\pip\\_vendor\\resolvelib\\resolvers.py\", line 239, in _attempt_to_pin_criterion\n",
      "    criteria = self._get_updated_criteria(candidate)\n",
      "               ^^^^^^^^^^^^^^^^^^^^^^^^^^^^^^^^^^^^^\n",
      "  File \"c:\\Users\\thanh\\AppData\\Local\\Programs\\Python\\Python312\\Lib\\site-packages\\pip\\_vendor\\resolvelib\\resolvers.py\", line 230, in _get_updated_criteria\n",
      "    self._add_to_criteria(criteria, requirement, parent=candidate)\n",
      "  File \"c:\\Users\\thanh\\AppData\\Local\\Programs\\Python\\Python312\\Lib\\site-packages\\pip\\_vendor\\resolvelib\\resolvers.py\", line 173, in _add_to_criteria\n",
      "    if not criterion.candidates:\n",
      "           ^^^^^^^^^^^^^^^^^^^^\n",
      "  File \"c:\\Users\\thanh\\AppData\\Local\\Programs\\Python\\Python312\\Lib\\site-packages\\pip\\_vendor\\resolvelib\\structs.py\", line 156, in __bool__\n",
      "    return bool(self._sequence)\n",
      "           ^^^^^^^^^^^^^^^^^^^^\n",
      "  File \"c:\\Users\\thanh\\AppData\\Local\\Programs\\Python\\Python312\\Lib\\site-packages\\pip\\_internal\\resolution\\resolvelib\\found_candidates.py\", line 155, in __bool__\n",
      "    return any(self)\n",
      "           ^^^^^^^^^\n",
      "  File \"c:\\Users\\thanh\\AppData\\Local\\Programs\\Python\\Python312\\Lib\\site-packages\\pip\\_internal\\resolution\\resolvelib\\found_candidates.py\", line 143, in <genexpr>\n",
      "    return (c for c in iterator if id(c) not in self._incompatible_ids)\n",
      "           ^^^^^^^^^^^^^^^^^^^^^^^^^^^^^^^^^^^^^^^^^^^^^^^^^^^^^^^^^^^^\n",
      "  File \"c:\\Users\\thanh\\AppData\\Local\\Programs\\Python\\Python312\\Lib\\site-packages\\pip\\_internal\\resolution\\resolvelib\\found_candidates.py\", line 47, in _iter_built\n",
      "    candidate = func()\n",
      "                ^^^^^^\n",
      "  File \"c:\\Users\\thanh\\AppData\\Local\\Programs\\Python\\Python312\\Lib\\site-packages\\pip\\_internal\\resolution\\resolvelib\\factory.py\", line 182, in _make_candidate_from_link\n",
      "    base: Optional[BaseCandidate] = self._make_base_candidate_from_link(\n",
      "                                    ^^^^^^^^^^^^^^^^^^^^^^^^^^^^^^^^^^^^\n",
      "  File \"c:\\Users\\thanh\\AppData\\Local\\Programs\\Python\\Python312\\Lib\\site-packages\\pip\\_internal\\resolution\\resolvelib\\factory.py\", line 228, in _make_base_candidate_from_link\n",
      "    self._link_candidate_cache[link] = LinkCandidate(\n",
      "                                       ^^^^^^^^^^^^^^\n",
      "  File \"c:\\Users\\thanh\\AppData\\Local\\Programs\\Python\\Python312\\Lib\\site-packages\\pip\\_internal\\resolution\\resolvelib\\candidates.py\", line 290, in __init__\n",
      "    super().__init__(\n",
      "  File \"c:\\Users\\thanh\\AppData\\Local\\Programs\\Python\\Python312\\Lib\\site-packages\\pip\\_internal\\resolution\\resolvelib\\candidates.py\", line 156, in __init__\n",
      "    self.dist = self._prepare()\n",
      "                ^^^^^^^^^^^^^^^\n",
      "  File \"c:\\Users\\thanh\\AppData\\Local\\Programs\\Python\\Python312\\Lib\\site-packages\\pip\\_internal\\resolution\\resolvelib\\candidates.py\", line 222, in _prepare\n",
      "    dist = self._prepare_distribution()\n",
      "           ^^^^^^^^^^^^^^^^^^^^^^^^^^^^\n",
      "  File \"c:\\Users\\thanh\\AppData\\Local\\Programs\\Python\\Python312\\Lib\\site-packages\\pip\\_internal\\resolution\\resolvelib\\candidates.py\", line 301, in _prepare_distribution\n",
      "    return preparer.prepare_linked_requirement(self._ireq, parallel_builds=True)\n",
      "           ^^^^^^^^^^^^^^^^^^^^^^^^^^^^^^^^^^^^^^^^^^^^^^^^^^^^^^^^^^^^^^^^^^^^^\n",
      "  File \"c:\\Users\\thanh\\AppData\\Local\\Programs\\Python\\Python312\\Lib\\site-packages\\pip\\_internal\\operations\\prepare.py\", line 525, in prepare_linked_requirement\n",
      "    return self._prepare_linked_requirement(req, parallel_builds)\n",
      "           ^^^^^^^^^^^^^^^^^^^^^^^^^^^^^^^^^^^^^^^^^^^^^^^^^^^^^^\n",
      "  File \"c:\\Users\\thanh\\AppData\\Local\\Programs\\Python\\Python312\\Lib\\site-packages\\pip\\_internal\\operations\\prepare.py\", line 640, in _prepare_linked_requirement\n",
      "    dist = _get_prepared_distribution(\n",
      "           ^^^^^^^^^^^^^^^^^^^^^^^^^^^\n",
      "  File \"c:\\Users\\thanh\\AppData\\Local\\Programs\\Python\\Python312\\Lib\\site-packages\\pip\\_internal\\operations\\prepare.py\", line 71, in _get_prepared_distribution\n",
      "    abstract_dist.prepare_distribution_metadata(\n",
      "  File \"c:\\Users\\thanh\\AppData\\Local\\Programs\\Python\\Python312\\Lib\\site-packages\\pip\\_internal\\distributions\\sdist.py\", line 54, in prepare_distribution_metadata\n",
      "    self._install_build_reqs(finder)\n",
      "  File \"c:\\Users\\thanh\\AppData\\Local\\Programs\\Python\\Python312\\Lib\\site-packages\\pip\\_internal\\distributions\\sdist.py\", line 124, in _install_build_reqs\n",
      "    build_reqs = self._get_build_requires_wheel()\n",
      "                 ^^^^^^^^^^^^^^^^^^^^^^^^^^^^^^^^\n",
      "  File \"c:\\Users\\thanh\\AppData\\Local\\Programs\\Python\\Python312\\Lib\\site-packages\\pip\\_internal\\distributions\\sdist.py\", line 101, in _get_build_requires_wheel\n",
      "    return backend.get_requires_for_build_wheel()\n",
      "           ^^^^^^^^^^^^^^^^^^^^^^^^^^^^^^^^^^^^^^\n",
      "  File \"c:\\Users\\thanh\\AppData\\Local\\Programs\\Python\\Python312\\Lib\\site-packages\\pip\\_internal\\utils\\misc.py\", line 745, in get_requires_for_build_wheel\n",
      "    return super().get_requires_for_build_wheel(config_settings=cs)\n",
      "           ^^^^^^^^^^^^^^^^^^^^^^^^^^^^^^^^^^^^^^^^^^^^^^^^^^^^^^^^\n",
      "  File \"c:\\Users\\thanh\\AppData\\Local\\Programs\\Python\\Python312\\Lib\\site-packages\\pip\\_vendor\\pyproject_hooks\\_impl.py\", line 166, in get_requires_for_build_wheel\n",
      "    return self._call_hook('get_requires_for_build_wheel', {\n",
      "           ^^^^^^^^^^^^^^^^^^^^^^^^^^^^^^^^^^^^^^^^^^^^^^^^^\n",
      "  File \"c:\\Users\\thanh\\AppData\\Local\\Programs\\Python\\Python312\\Lib\\site-packages\\pip\\_vendor\\pyproject_hooks\\_impl.py\", line 321, in _call_hook\n",
      "    raise BackendUnavailable(data.get('traceback', ''))\n",
      "pip._vendor.pyproject_hooks._impl.BackendUnavailable: Traceback (most recent call last):\n",
      "  File \"c:\\Users\\thanh\\AppData\\Local\\Programs\\Python\\Python312\\Lib\\site-packages\\pip\\_vendor\\pyproject_hooks\\_in_process\\_in_process.py\", line 77, in _build_backend\n",
      "    obj = import_module(mod_path)\n",
      "          ^^^^^^^^^^^^^^^^^^^^^^^\n",
      "  File \"c:\\Users\\thanh\\AppData\\Local\\Programs\\Python\\Python312\\Lib\\importlib\\__init__.py\", line 90, in import_module\n",
      "    return _bootstrap._gcd_import(name[level:], package, level)\n",
      "           ^^^^^^^^^^^^^^^^^^^^^^^^^^^^^^^^^^^^^^^^^^^^^^^^^^^^\n",
      "  File \"<frozen importlib._bootstrap>\", line 1387, in _gcd_import\n",
      "  File \"<frozen importlib._bootstrap>\", line 1360, in _find_and_load\n",
      "  File \"<frozen importlib._bootstrap>\", line 1324, in _find_and_load_unlocked\n",
      "ModuleNotFoundError: No module named 'maturin'\n",
      "\n"
     ]
    }
   ],
   "source": [
    "pip install underthesea\n"
   ]
  },
  {
   "cell_type": "code",
   "execution_count": 31,
   "metadata": {},
   "outputs": [
    {
     "name": "stdout",
     "output_type": "stream",
     "text": [
      "Collecting underthesea\n",
      "  Downloading underthesea-6.8.0-py3-none-any.whl.metadata (14 kB)\n",
      "Requirement already satisfied: Click>=6.0 in c:\\users\\thanh\\appdata\\local\\programs\\python\\python312\\lib\\site-packages (from underthesea) (8.1.7)\n",
      "Collecting python-crfsuite>=0.9.6 (from underthesea)\n",
      "  Downloading python_crfsuite-0.9.10-cp312-cp312-win_amd64.whl.metadata (4.3 kB)\n",
      "Requirement already satisfied: nltk in c:\\users\\thanh\\appdata\\local\\programs\\python\\python312\\lib\\site-packages (from underthesea) (3.8.1)\n",
      "Requirement already satisfied: tqdm in c:\\users\\thanh\\appdata\\local\\programs\\python\\python312\\lib\\site-packages (from underthesea) (4.66.2)\n",
      "Requirement already satisfied: requests in c:\\users\\thanh\\appdata\\local\\programs\\python\\python312\\lib\\site-packages (from underthesea) (2.31.0)\n",
      "Requirement already satisfied: joblib in c:\\users\\thanh\\appdata\\local\\programs\\python\\python312\\lib\\site-packages (from underthesea) (1.3.2)\n",
      "Requirement already satisfied: scikit-learn in c:\\users\\thanh\\appdata\\local\\programs\\python\\python312\\lib\\site-packages (from underthesea) (1.3.2)\n",
      "Requirement already satisfied: PyYAML in c:\\users\\thanh\\appdata\\local\\programs\\python\\python312\\lib\\site-packages (from underthesea) (6.0.1)\n",
      "Collecting underthesea-core==1.0.4 (from underthesea)\n",
      "  Downloading underthesea_core-1.0.4.tar.gz (560 kB)\n",
      "     ---------------------------------------- 0.0/560.4 kB ? eta -:--:--\n",
      "      --------------------------------------- 10.2/560.4 kB ? eta -:--:--\n",
      "     -- ---------------------------------- 30.7/560.4 kB 330.3 kB/s eta 0:00:02\n",
      "     ---- -------------------------------- 61.4/560.4 kB 469.7 kB/s eta 0:00:02\n",
      "     --------- -------------------------- 143.4/560.4 kB 853.3 kB/s eta 0:00:01\n",
      "     ----------------- -------------------- 256.0/560.4 kB 1.1 MB/s eta 0:00:01\n",
      "     ---------------------- --------------- 337.9/560.4 kB 1.3 MB/s eta 0:00:01\n",
      "     ----------------------------- -------- 430.1/560.4 kB 1.4 MB/s eta 0:00:01\n",
      "     ------------------------------------ - 532.5/560.4 kB 1.5 MB/s eta 0:00:01\n",
      "     -------------------------------------- 560.4/560.4 kB 1.5 MB/s eta 0:00:00\n",
      "  Installing build dependencies: started\n",
      "  Installing build dependencies: finished with status 'done'\n",
      "  Getting requirements to build wheel: started\n",
      "  Getting requirements to build wheel: finished with status 'done'\n"
     ]
    },
    {
     "name": "stderr",
     "output_type": "stream",
     "text": [
      "ERROR: Exception:\n",
      "Traceback (most recent call last):\n",
      "  File \"C:\\Users\\thanh\\AppData\\Local\\Programs\\Python\\Python312\\Lib\\site-packages\\pip\\_internal\\cli\\base_command.py\", line 180, in exc_logging_wrapper\n",
      "    status = run_func(*args)\n",
      "             ^^^^^^^^^^^^^^^\n",
      "  File \"C:\\Users\\thanh\\AppData\\Local\\Programs\\Python\\Python312\\Lib\\site-packages\\pip\\_internal\\cli\\req_command.py\", line 245, in wrapper\n",
      "    return func(self, options, args)\n",
      "           ^^^^^^^^^^^^^^^^^^^^^^^^^\n",
      "  File \"C:\\Users\\thanh\\AppData\\Local\\Programs\\Python\\Python312\\Lib\\site-packages\\pip\\_internal\\commands\\install.py\", line 377, in run\n",
      "    requirement_set = resolver.resolve(\n",
      "                      ^^^^^^^^^^^^^^^^^\n",
      "  File \"C:\\Users\\thanh\\AppData\\Local\\Programs\\Python\\Python312\\Lib\\site-packages\\pip\\_internal\\resolution\\resolvelib\\resolver.py\", line 95, in resolve\n",
      "    result = self._result = resolver.resolve(\n",
      "                            ^^^^^^^^^^^^^^^^^\n",
      "  File \"C:\\Users\\thanh\\AppData\\Local\\Programs\\Python\\Python312\\Lib\\site-packages\\pip\\_vendor\\resolvelib\\resolvers.py\", line 546, in resolve\n",
      "    state = resolution.resolve(requirements, max_rounds=max_rounds)\n",
      "            ^^^^^^^^^^^^^^^^^^^^^^^^^^^^^^^^^^^^^^^^^^^^^^^^^^^^^^^\n",
      "  File \"C:\\Users\\thanh\\AppData\\Local\\Programs\\Python\\Python312\\Lib\\site-packages\\pip\\_vendor\\resolvelib\\resolvers.py\", line 427, in resolve\n",
      "    failure_causes = self._attempt_to_pin_criterion(name)\n",
      "                     ^^^^^^^^^^^^^^^^^^^^^^^^^^^^^^^^^^^^\n",
      "  File \"C:\\Users\\thanh\\AppData\\Local\\Programs\\Python\\Python312\\Lib\\site-packages\\pip\\_vendor\\resolvelib\\resolvers.py\", line 239, in _attempt_to_pin_criterion\n",
      "    criteria = self._get_updated_criteria(candidate)\n",
      "               ^^^^^^^^^^^^^^^^^^^^^^^^^^^^^^^^^^^^^\n",
      "  File \"C:\\Users\\thanh\\AppData\\Local\\Programs\\Python\\Python312\\Lib\\site-packages\\pip\\_vendor\\resolvelib\\resolvers.py\", line 230, in _get_updated_criteria\n",
      "    self._add_to_criteria(criteria, requirement, parent=candidate)\n",
      "  File \"C:\\Users\\thanh\\AppData\\Local\\Programs\\Python\\Python312\\Lib\\site-packages\\pip\\_vendor\\resolvelib\\resolvers.py\", line 173, in _add_to_criteria\n",
      "    if not criterion.candidates:\n",
      "           ^^^^^^^^^^^^^^^^^^^^\n",
      "  File \"C:\\Users\\thanh\\AppData\\Local\\Programs\\Python\\Python312\\Lib\\site-packages\\pip\\_vendor\\resolvelib\\structs.py\", line 156, in __bool__\n",
      "    return bool(self._sequence)\n",
      "           ^^^^^^^^^^^^^^^^^^^^\n",
      "  File \"C:\\Users\\thanh\\AppData\\Local\\Programs\\Python\\Python312\\Lib\\site-packages\\pip\\_internal\\resolution\\resolvelib\\found_candidates.py\", line 155, in __bool__\n",
      "    return any(self)\n",
      "           ^^^^^^^^^\n",
      "  File \"C:\\Users\\thanh\\AppData\\Local\\Programs\\Python\\Python312\\Lib\\site-packages\\pip\\_internal\\resolution\\resolvelib\\found_candidates.py\", line 143, in <genexpr>\n",
      "    return (c for c in iterator if id(c) not in self._incompatible_ids)\n",
      "           ^^^^^^^^^^^^^^^^^^^^^^^^^^^^^^^^^^^^^^^^^^^^^^^^^^^^^^^^^^^^\n",
      "  File \"C:\\Users\\thanh\\AppData\\Local\\Programs\\Python\\Python312\\Lib\\site-packages\\pip\\_internal\\resolution\\resolvelib\\found_candidates.py\", line 47, in _iter_built\n",
      "    candidate = func()\n",
      "                ^^^^^^\n",
      "  File \"C:\\Users\\thanh\\AppData\\Local\\Programs\\Python\\Python312\\Lib\\site-packages\\pip\\_internal\\resolution\\resolvelib\\factory.py\", line 182, in _make_candidate_from_link\n",
      "    base: Optional[BaseCandidate] = self._make_base_candidate_from_link(\n",
      "                                    ^^^^^^^^^^^^^^^^^^^^^^^^^^^^^^^^^^^^\n",
      "  File \"C:\\Users\\thanh\\AppData\\Local\\Programs\\Python\\Python312\\Lib\\site-packages\\pip\\_internal\\resolution\\resolvelib\\factory.py\", line 228, in _make_base_candidate_from_link\n",
      "    self._link_candidate_cache[link] = LinkCandidate(\n",
      "                                       ^^^^^^^^^^^^^^\n",
      "  File \"C:\\Users\\thanh\\AppData\\Local\\Programs\\Python\\Python312\\Lib\\site-packages\\pip\\_internal\\resolution\\resolvelib\\candidates.py\", line 290, in __init__\n",
      "    super().__init__(\n",
      "  File \"C:\\Users\\thanh\\AppData\\Local\\Programs\\Python\\Python312\\Lib\\site-packages\\pip\\_internal\\resolution\\resolvelib\\candidates.py\", line 156, in __init__\n",
      "    self.dist = self._prepare()\n",
      "                ^^^^^^^^^^^^^^^\n",
      "  File \"C:\\Users\\thanh\\AppData\\Local\\Programs\\Python\\Python312\\Lib\\site-packages\\pip\\_internal\\resolution\\resolvelib\\candidates.py\", line 222, in _prepare\n",
      "    dist = self._prepare_distribution()\n",
      "           ^^^^^^^^^^^^^^^^^^^^^^^^^^^^\n",
      "  File \"C:\\Users\\thanh\\AppData\\Local\\Programs\\Python\\Python312\\Lib\\site-packages\\pip\\_internal\\resolution\\resolvelib\\candidates.py\", line 301, in _prepare_distribution\n",
      "    return preparer.prepare_linked_requirement(self._ireq, parallel_builds=True)\n",
      "           ^^^^^^^^^^^^^^^^^^^^^^^^^^^^^^^^^^^^^^^^^^^^^^^^^^^^^^^^^^^^^^^^^^^^^\n",
      "  File \"C:\\Users\\thanh\\AppData\\Local\\Programs\\Python\\Python312\\Lib\\site-packages\\pip\\_internal\\operations\\prepare.py\", line 525, in prepare_linked_requirement\n",
      "    return self._prepare_linked_requirement(req, parallel_builds)\n",
      "           ^^^^^^^^^^^^^^^^^^^^^^^^^^^^^^^^^^^^^^^^^^^^^^^^^^^^^^\n",
      "  File \"C:\\Users\\thanh\\AppData\\Local\\Programs\\Python\\Python312\\Lib\\site-packages\\pip\\_internal\\operations\\prepare.py\", line 640, in _prepare_linked_requirement\n",
      "    dist = _get_prepared_distribution(\n",
      "           ^^^^^^^^^^^^^^^^^^^^^^^^^^^\n",
      "  File \"C:\\Users\\thanh\\AppData\\Local\\Programs\\Python\\Python312\\Lib\\site-packages\\pip\\_internal\\operations\\prepare.py\", line 71, in _get_prepared_distribution\n",
      "    abstract_dist.prepare_distribution_metadata(\n",
      "  File \"C:\\Users\\thanh\\AppData\\Local\\Programs\\Python\\Python312\\Lib\\site-packages\\pip\\_internal\\distributions\\sdist.py\", line 54, in prepare_distribution_metadata\n",
      "    self._install_build_reqs(finder)\n",
      "  File \"C:\\Users\\thanh\\AppData\\Local\\Programs\\Python\\Python312\\Lib\\site-packages\\pip\\_internal\\distributions\\sdist.py\", line 124, in _install_build_reqs\n",
      "    build_reqs = self._get_build_requires_wheel()\n",
      "                 ^^^^^^^^^^^^^^^^^^^^^^^^^^^^^^^^\n",
      "  File \"C:\\Users\\thanh\\AppData\\Local\\Programs\\Python\\Python312\\Lib\\site-packages\\pip\\_internal\\distributions\\sdist.py\", line 101, in _get_build_requires_wheel\n",
      "    return backend.get_requires_for_build_wheel()\n",
      "           ^^^^^^^^^^^^^^^^^^^^^^^^^^^^^^^^^^^^^^\n",
      "  File \"C:\\Users\\thanh\\AppData\\Local\\Programs\\Python\\Python312\\Lib\\site-packages\\pip\\_internal\\utils\\misc.py\", line 745, in get_requires_for_build_wheel\n",
      "    return super().get_requires_for_build_wheel(config_settings=cs)\n",
      "           ^^^^^^^^^^^^^^^^^^^^^^^^^^^^^^^^^^^^^^^^^^^^^^^^^^^^^^^^\n",
      "  File \"C:\\Users\\thanh\\AppData\\Local\\Programs\\Python\\Python312\\Lib\\site-packages\\pip\\_vendor\\pyproject_hooks\\_impl.py\", line 166, in get_requires_for_build_wheel\n",
      "    return self._call_hook('get_requires_for_build_wheel', {\n",
      "           ^^^^^^^^^^^^^^^^^^^^^^^^^^^^^^^^^^^^^^^^^^^^^^^^^\n",
      "  File \"C:\\Users\\thanh\\AppData\\Local\\Programs\\Python\\Python312\\Lib\\site-packages\\pip\\_vendor\\pyproject_hooks\\_impl.py\", line 321, in _call_hook\n",
      "    raise BackendUnavailable(data.get('traceback', ''))\n",
      "pip._vendor.pyproject_hooks._impl.BackendUnavailable: Traceback (most recent call last):\n",
      "  File \"C:\\Users\\thanh\\AppData\\Local\\Programs\\Python\\Python312\\Lib\\site-packages\\pip\\_vendor\\pyproject_hooks\\_in_process\\_in_process.py\", line 77, in _build_backend\n",
      "    obj = import_module(mod_path)\n",
      "          ^^^^^^^^^^^^^^^^^^^^^^^\n",
      "  File \"C:\\Users\\thanh\\AppData\\Local\\Programs\\Python\\Python312\\Lib\\importlib\\__init__.py\", line 90, in import_module\n",
      "    return _bootstrap._gcd_import(name[level:], package, level)\n",
      "           ^^^^^^^^^^^^^^^^^^^^^^^^^^^^^^^^^^^^^^^^^^^^^^^^^^^^\n",
      "  File \"<frozen importlib._bootstrap>\", line 1387, in _gcd_import\n",
      "  File \"<frozen importlib._bootstrap>\", line 1360, in _find_and_load\n",
      "  File \"<frozen importlib._bootstrap>\", line 1324, in _find_and_load_unlocked\n",
      "ModuleNotFoundError: No module named 'maturin'\n",
      "\n"
     ]
    }
   ],
   "source": [
    "import pandas as pd\n",
    "from underthesea import sentiment\n",
    "\n",
    "# Sử dụng underthesea để phân tích cảm xúc\n",
    "df['Sentiment'] = df['Comment'].apply(sentiment)\n",
    "\n",
    "df\n"
   ]
  }
 ],
 "metadata": {
  "kernelspec": {
   "display_name": "Python 3",
   "language": "python",
   "name": "python3"
  },
  "language_info": {
   "codemirror_mode": {
    "name": "ipython",
    "version": 3
   },
   "file_extension": ".py",
   "mimetype": "text/x-python",
   "name": "python",
   "nbconvert_exporter": "python",
   "pygments_lexer": "ipython3",
   "version": "3.12.1"
  }
 },
 "nbformat": 4,
 "nbformat_minor": 2
}
