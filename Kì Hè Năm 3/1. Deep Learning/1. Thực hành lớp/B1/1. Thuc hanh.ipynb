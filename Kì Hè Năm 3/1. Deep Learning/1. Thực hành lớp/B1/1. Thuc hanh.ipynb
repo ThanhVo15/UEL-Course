{
 "cells": [
  {
   "cell_type": "code",
   "execution_count": 9,
   "metadata": {},
   "outputs": [],
   "source": [
    "import pandas as pd\n",
    "from sklearn.preprocessing import OneHotEncoder\n",
    "from sklearn.feature_extraction.text import CountVectorizer, TfidfVectorizer\n",
    "from gensim.models import Word2Vec"
   ]
  },
  {
   "cell_type": "markdown",
   "metadata": {},
   "source": [
    "# I. Bags-of-Words"
   ]
  },
  {
   "cell_type": "code",
   "execution_count": 10,
   "metadata": {},
   "outputs": [
    {
     "name": "stdout",
     "output_type": "stream",
     "text": [
      "  (0, 0)\t1.0\n",
      "  (1, 1)\t1.0\n",
      "  (2, 2)\t1.0\n",
      "  (3, 3)\t1.0\n"
     ]
    }
   ],
   "source": [
    "onehot_encoder = OneHotEncoder()\n",
    "encoded = onehot_encoder.fit_transform([['Apple'], ['Banana'], ['Coconut'], ['Durian']])\n",
    "print(encoded)"
   ]
  },
  {
   "cell_type": "code",
   "execution_count": 11,
   "metadata": {},
   "outputs": [
    {
     "name": "stdout",
     "output_type": "stream",
     "text": [
      "Vocabulary: {'love': 8, 'machine': 9, 'learning': 7, 'deep': 2, 'learing': 6, 'is': 4, 'amazing': 1, 'natural': 10, 'language': 5, 'processing': 12, 'field': 3, 'of': 11, 'ai': 0}\n",
      "Bag of Words Representation: [[0 0 0 0 0 0 0 2 1 1 0 0 0]\n",
      " [0 1 1 0 1 0 1 0 0 0 0 0 0]\n",
      " [1 0 0 1 1 1 0 0 0 0 1 1 1]]\n"
     ]
    }
   ],
   "source": [
    "sentences = ['I love machine learning learning', 'Deep Learing is amazing', ' Natural language processing is a field of AI']\n",
    "\n",
    "# taoj BOW voI CountVectorizer\n",
    "vectorizer = CountVectorizer()\n",
    "X = vectorizer.fit_transform(sentences)\n",
    "\n",
    "# Hien thi tu vung\n",
    "print('Vocabulary:', vectorizer.vocabulary_)\n",
    "\n",
    "# Chuyen doi van bang thanh vector BOW\n",
    "print('Bag of Words Representation:', X.toarray())"
   ]
  },
  {
   "cell_type": "code",
   "execution_count": 13,
   "metadata": {},
   "outputs": [
    {
     "name": "stdout",
     "output_type": "stream",
     "text": [
      "TD-IDF Representation:\n",
      " [[0.         0.         0.         0.         0.         0.\n",
      "  0.         0.81649658 0.40824829 0.40824829 0.         0.\n",
      "  0.        ]\n",
      " [0.         0.52863461 0.52863461 0.         0.40204024 0.\n",
      "  0.52863461 0.         0.         0.         0.         0.\n",
      "  0.        ]\n",
      " [0.38988801 0.         0.         0.38988801 0.29651988 0.38988801\n",
      "  0.         0.         0.         0.         0.38988801 0.38988801\n",
      "  0.38988801]]\n"
     ]
    }
   ],
   "source": [
    "# Tao TF-IDF voi TfidfVectorizer\n",
    "vectorizer = TfidfVectorizer()\n",
    "X = vectorizer.fit_transform(sentences)\n",
    "\n",
    "# Chuyen doi van bang thanh ma tran tf -idf\n",
    "print(\"TD-IDF Representation:\\n\", X.toarray())"
   ]
  },
  {
   "cell_type": "code",
   "execution_count": null,
   "metadata": {},
   "outputs": [],
   "source": []
  }
 ],
 "metadata": {
  "kernelspec": {
   "display_name": "Python 3",
   "language": "python",
   "name": "python3"
  },
  "language_info": {
   "codemirror_mode": {
    "name": "ipython",
    "version": 3
   },
   "file_extension": ".py",
   "mimetype": "text/x-python",
   "name": "python",
   "nbconvert_exporter": "python",
   "pygments_lexer": "ipython3",
   "version": "3.12.1"
  }
 },
 "nbformat": 4,
 "nbformat_minor": 2
}
